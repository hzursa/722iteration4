{
 "cells": [
  {
   "cell_type": "code",
   "execution_count": 2,
   "metadata": {},
   "outputs": [],
   "source": [
    "import findspark\n",
    "findspark.init('/home/ubuntu/spark-2.1.1-bin-hadoop2.7')\n",
    "import pyspark\n",
    "from pyspark.sql import SparkSession\n",
    "spark = SparkSession.builder.appName('studentGrade').getOrCreate()\n",
    "import numpy as np # linear algebra\n",
    "import pandas as pd # data processing, CSV file I/O (e.g. pd.read_csv)"
   ]
  },
  {
   "cell_type": "code",
   "execution_count": 3,
   "metadata": {},
   "outputs": [],
   "source": [
    "import matplotlib.pyplot as plt\n",
    "import math\n",
    "plt.rcParams['figure.figsize'] = [12, 8]\n",
    "plt.rcParams['figure.dpi'] = 100\n",
    "font = {'size'   : 10}\n",
    "plt.rc('font', **font)"
   ]
  },
  {
   "cell_type": "code",
   "execution_count": 4,
   "metadata": {},
   "outputs": [
    {
     "data": {
      "text/plain": [
       "[Row(school='GP', Course='Portuguese', sex='F', age=18, address='U', famsize='GT3', Pstatus='A', Medu=4, Fedu=4, Mjob='at_home', Fjob='teacher', reason='course', guardian='mother', traveltime=2, studytime=2, failures=0, schoolsup='yes', famsup='no', paid='no', activities='no', nursery='yes', higher='yes', internet='no', romantic='no', famrel=4, freetime=3, goout=4, Dalc=1, Walc=1, health=3, absences=4, G1=0, G2=11, G3=11)]"
      ]
     },
     "execution_count": 4,
     "metadata": {},
     "output_type": "execute_result"
    }
   ],
   "source": [
    "# Importing data which has a header. Schema is automatically configured.\n",
    "df = spark.read.csv('stu_por_GP.csv', header=True, inferSchema=True)\n",
    "#df.show()\n",
    "df.head(1)"
   ]
  },
  {
   "cell_type": "code",
   "execution_count": 5,
   "metadata": {},
   "outputs": [],
   "source": [
    "from pyspark import SparkContext\n",
    "from pyspark.sql import SparkSession\n",
    "from pyspark.sql.functions import *\n",
    "from pyspark.sql.functions import when, count, col"
   ]
  },
  {
   "cell_type": "code",
   "execution_count": 6,
   "metadata": {},
   "outputs": [
    {
     "data": {
      "text/html": [
       "<div>\n",
       "<style scoped>\n",
       "    .dataframe tbody tr th:only-of-type {\n",
       "        vertical-align: middle;\n",
       "    }\n",
       "\n",
       "    .dataframe tbody tr th {\n",
       "        vertical-align: top;\n",
       "    }\n",
       "\n",
       "    .dataframe thead th {\n",
       "        text-align: right;\n",
       "    }\n",
       "</style>\n",
       "<table border=\"1\" class=\"dataframe\">\n",
       "  <thead>\n",
       "    <tr style=\"text-align: right;\">\n",
       "      <th></th>\n",
       "      <th>school</th>\n",
       "      <th>Course</th>\n",
       "      <th>sex</th>\n",
       "      <th>age</th>\n",
       "      <th>address</th>\n",
       "      <th>famsize</th>\n",
       "      <th>Pstatus</th>\n",
       "      <th>Medu</th>\n",
       "      <th>Fedu</th>\n",
       "      <th>Mjob</th>\n",
       "      <th>...</th>\n",
       "      <th>famrel</th>\n",
       "      <th>freetime</th>\n",
       "      <th>goout</th>\n",
       "      <th>Dalc</th>\n",
       "      <th>Walc</th>\n",
       "      <th>health</th>\n",
       "      <th>absences</th>\n",
       "      <th>G1</th>\n",
       "      <th>G2</th>\n",
       "      <th>G3</th>\n",
       "    </tr>\n",
       "  </thead>\n",
       "  <tbody>\n",
       "    <tr>\n",
       "      <th>0</th>\n",
       "      <td>GP</td>\n",
       "      <td>Portuguese</td>\n",
       "      <td>F</td>\n",
       "      <td>18</td>\n",
       "      <td>U</td>\n",
       "      <td>GT3</td>\n",
       "      <td>A</td>\n",
       "      <td>4</td>\n",
       "      <td>4</td>\n",
       "      <td>at_home</td>\n",
       "      <td>...</td>\n",
       "      <td>4</td>\n",
       "      <td>3</td>\n",
       "      <td>4</td>\n",
       "      <td>1</td>\n",
       "      <td>1</td>\n",
       "      <td>3</td>\n",
       "      <td>4</td>\n",
       "      <td>0</td>\n",
       "      <td>11</td>\n",
       "      <td>11</td>\n",
       "    </tr>\n",
       "    <tr>\n",
       "      <th>1</th>\n",
       "      <td>GP</td>\n",
       "      <td>Portuguese</td>\n",
       "      <td>F</td>\n",
       "      <td>17</td>\n",
       "      <td>U</td>\n",
       "      <td>GT3</td>\n",
       "      <td>T</td>\n",
       "      <td>1</td>\n",
       "      <td>1</td>\n",
       "      <td>at_home</td>\n",
       "      <td>...</td>\n",
       "      <td>5</td>\n",
       "      <td>3</td>\n",
       "      <td>3</td>\n",
       "      <td>1</td>\n",
       "      <td>1</td>\n",
       "      <td>3</td>\n",
       "      <td>2</td>\n",
       "      <td>9</td>\n",
       "      <td>11</td>\n",
       "      <td>11</td>\n",
       "    </tr>\n",
       "    <tr>\n",
       "      <th>2</th>\n",
       "      <td>GP</td>\n",
       "      <td>Portuguese</td>\n",
       "      <td>F</td>\n",
       "      <td>15</td>\n",
       "      <td>U</td>\n",
       "      <td>LE3</td>\n",
       "      <td>T</td>\n",
       "      <td>1</td>\n",
       "      <td>1</td>\n",
       "      <td>at_home</td>\n",
       "      <td>...</td>\n",
       "      <td>4</td>\n",
       "      <td>3</td>\n",
       "      <td>2</td>\n",
       "      <td>2</td>\n",
       "      <td>3</td>\n",
       "      <td>3</td>\n",
       "      <td>6</td>\n",
       "      <td>12</td>\n",
       "      <td>13</td>\n",
       "      <td>12</td>\n",
       "    </tr>\n",
       "    <tr>\n",
       "      <th>3</th>\n",
       "      <td>GP</td>\n",
       "      <td>Portuguese</td>\n",
       "      <td>F</td>\n",
       "      <td>15</td>\n",
       "      <td>U</td>\n",
       "      <td>GT3</td>\n",
       "      <td>T</td>\n",
       "      <td>4</td>\n",
       "      <td>2</td>\n",
       "      <td>health</td>\n",
       "      <td>...</td>\n",
       "      <td>3</td>\n",
       "      <td>2</td>\n",
       "      <td>2</td>\n",
       "      <td>1</td>\n",
       "      <td>1</td>\n",
       "      <td>5</td>\n",
       "      <td>0</td>\n",
       "      <td>14</td>\n",
       "      <td>14</td>\n",
       "      <td>14</td>\n",
       "    </tr>\n",
       "    <tr>\n",
       "      <th>4</th>\n",
       "      <td>GP</td>\n",
       "      <td>Portuguese</td>\n",
       "      <td>F</td>\n",
       "      <td>16</td>\n",
       "      <td>U</td>\n",
       "      <td>GT3</td>\n",
       "      <td>T</td>\n",
       "      <td>3</td>\n",
       "      <td>3</td>\n",
       "      <td>None</td>\n",
       "      <td>...</td>\n",
       "      <td>4</td>\n",
       "      <td>3</td>\n",
       "      <td>2</td>\n",
       "      <td>1</td>\n",
       "      <td>2</td>\n",
       "      <td>5</td>\n",
       "      <td>0</td>\n",
       "      <td>11</td>\n",
       "      <td>13</td>\n",
       "      <td>13</td>\n",
       "    </tr>\n",
       "  </tbody>\n",
       "</table>\n",
       "<p>5 rows × 34 columns</p>\n",
       "</div>"
      ],
      "text/plain": [
       "  school      Course sex  age address famsize Pstatus  Medu  Fedu     Mjob  \\\n",
       "0     GP  Portuguese   F   18       U     GT3       A     4     4  at_home   \n",
       "1     GP  Portuguese   F   17       U     GT3       T     1     1  at_home   \n",
       "2     GP  Portuguese   F   15       U     LE3       T     1     1  at_home   \n",
       "3     GP  Portuguese   F   15       U     GT3       T     4     2   health   \n",
       "4     GP  Portuguese   F   16       U     GT3       T     3     3     None   \n",
       "\n",
       "  ... famrel freetime goout  Dalc  Walc  health absences  G1  G2  G3  \n",
       "0 ...      4        3     4     1     1       3        4   0  11  11  \n",
       "1 ...      5        3     3     1     1       3        2   9  11  11  \n",
       "2 ...      4        3     2     2     3       3        6  12  13  12  \n",
       "3 ...      3        2     2     1     1       5        0  14  14  14  \n",
       "4 ...      4        3     2     1     2       5        0  11  13  13  \n",
       "\n",
       "[5 rows x 34 columns]"
      ]
     },
     "execution_count": 6,
     "metadata": {},
     "output_type": "execute_result"
    }
   ],
   "source": [
    "df.toPandas().head()"
   ]
  },
  {
   "cell_type": "code",
   "execution_count": 7,
   "metadata": {},
   "outputs": [
    {
     "data": {
      "text/plain": [
       "['school',\n",
       " 'Course',\n",
       " 'sex',\n",
       " 'age',\n",
       " 'address',\n",
       " 'famsize',\n",
       " 'Pstatus',\n",
       " 'Medu',\n",
       " 'Fedu',\n",
       " 'Mjob',\n",
       " 'Fjob',\n",
       " 'reason',\n",
       " 'guardian',\n",
       " 'traveltime',\n",
       " 'studytime',\n",
       " 'failures',\n",
       " 'schoolsup',\n",
       " 'famsup',\n",
       " 'paid',\n",
       " 'activities',\n",
       " 'nursery',\n",
       " 'higher',\n",
       " 'internet',\n",
       " 'romantic',\n",
       " 'famrel',\n",
       " 'freetime',\n",
       " 'goout',\n",
       " 'Dalc',\n",
       " 'Walc',\n",
       " 'health',\n",
       " 'absences',\n",
       " 'G1',\n",
       " 'G2',\n",
       " 'G3']"
      ]
     },
     "execution_count": 7,
     "metadata": {},
     "output_type": "execute_result"
    }
   ],
   "source": [
    "df.columns"
   ]
  },
  {
   "cell_type": "code",
   "execution_count": 8,
   "metadata": {},
   "outputs": [
    {
     "name": "stdout",
     "output_type": "stream",
     "text": [
      "(423, 34)\n"
     ]
    }
   ],
   "source": [
    "print((df.count(), len(df.columns)))"
   ]
  },
  {
   "cell_type": "markdown",
   "metadata": {},
   "source": [
    "## 2.2 describe data"
   ]
  },
  {
   "cell_type": "code",
   "execution_count": 9,
   "metadata": {},
   "outputs": [
    {
     "data": {
      "text/plain": [
       "[('school', 'string'),\n",
       " ('Course', 'string'),\n",
       " ('sex', 'string'),\n",
       " ('age', 'int'),\n",
       " ('address', 'string'),\n",
       " ('famsize', 'string'),\n",
       " ('Pstatus', 'string'),\n",
       " ('Medu', 'int'),\n",
       " ('Fedu', 'int'),\n",
       " ('Mjob', 'string'),\n",
       " ('Fjob', 'string'),\n",
       " ('reason', 'string'),\n",
       " ('guardian', 'string'),\n",
       " ('traveltime', 'int'),\n",
       " ('studytime', 'int'),\n",
       " ('failures', 'int'),\n",
       " ('schoolsup', 'string'),\n",
       " ('famsup', 'string'),\n",
       " ('paid', 'string'),\n",
       " ('activities', 'string'),\n",
       " ('nursery', 'string'),\n",
       " ('higher', 'string'),\n",
       " ('internet', 'string'),\n",
       " ('romantic', 'string'),\n",
       " ('famrel', 'int'),\n",
       " ('freetime', 'int'),\n",
       " ('goout', 'int'),\n",
       " ('Dalc', 'int'),\n",
       " ('Walc', 'int'),\n",
       " ('health', 'int'),\n",
       " ('absences', 'int'),\n",
       " ('G1', 'int'),\n",
       " ('G2', 'int'),\n",
       " ('G3', 'int')]"
      ]
     },
     "execution_count": 9,
     "metadata": {},
     "output_type": "execute_result"
    }
   ],
   "source": [
    "df.dtypes"
   ]
  },
  {
   "cell_type": "code",
   "execution_count": 10,
   "metadata": {},
   "outputs": [],
   "source": [
    "stu_por_GP=df.toPandas()"
   ]
  },
  {
   "cell_type": "code",
   "execution_count": 11,
   "metadata": {},
   "outputs": [],
   "source": [
    "typename = pd.DataFrame (stu_por_GP.columns,columns=['feature name'])"
   ]
  },
  {
   "cell_type": "code",
   "execution_count": 12,
   "metadata": {},
   "outputs": [],
   "source": [
    "flag_type=['school', 'Course', 'sex','address', 'famsize', 'Pstatus','schoolsup', 'famsup', 'paid', 'activities','nursery', 'higher', 'internet', 'romantic']\n",
    "nominal_type=['Mjob', 'Fjob', 'reason', 'guardian']\n",
    "ordinal_type=[ 'Medu', 'Fedu','traveltime', 'studytime', 'failures','famrel', 'freetime','goout', 'Dalc', 'Walc', 'health', ]\n",
    "numerical_type=['age','absences', 'G1', 'G2', 'G3']\n",
    "flag_type_except=[ 'sex','address', 'famsize', 'Pstatus','schoolsup', 'famsup', 'paid', 'activities','nursery', 'higher', 'internet', 'romantic']"
   ]
  },
  {
   "cell_type": "code",
   "execution_count": 13,
   "metadata": {},
   "outputs": [
    {
     "data": {
      "text/plain": [
       "<matplotlib.axes._subplots.AxesSubplot at 0x7fc374777048>"
      ]
     },
     "execution_count": 13,
     "metadata": {},
     "output_type": "execute_result"
    },
    {
     "data": {
      "image/png": "[encoded data removed]",
      "text/plain": [
       "<Figure size 432x288 with 1 Axes>"
      ]
     },
     "metadata": {},
     "output_type": "display_data"
    }
   ],
   "source": [
    "# visualize the type of features\n",
    "for i in typename['feature name']:\n",
    "    if i in flag_type:\n",
    "        typename.loc[typename[\"feature name\"]==i,\"feature type\"]=\"flag\"\n",
    "    if i in nominal_type:\n",
    "        typename.loc[typename[\"feature name\"]==i,\"feature type\"]=\"nominal\"\n",
    "    if i in ordinal_type:\n",
    "        typename.loc[typename[\"feature name\"]==i,\"feature type\"]=\"ordinal\"\n",
    "    if i in numerical_type:\n",
    "        typename.loc[typename[\"feature name\"]==i,\"feature type\"]=\"numerical\"\n",
    "typename['feature type'].value_counts().plot(kind='bar')"
   ]
  },
  {
   "cell_type": "code",
   "execution_count": 14,
   "metadata": {
    "scrolled": true
   },
   "outputs": [
    {
     "data": {
      "text/plain": [
       "Text(0.5,1,\"father's education\")"
      ]
     },
     "execution_count": 14,
     "metadata": {},
     "output_type": "execute_result"
    },
    {
     "data": {
      "image/png": "[encoded data removed]",
      "text/plain": [
       "<Figure size 800x800 with 4 Axes>"
      ]
     },
     "metadata": {},
     "output_type": "display_data"
    }
   ],
   "source": [
    "plt.rcParams['figure.figsize'] = [8, 8]\n",
    "plt.rcParams['figure.dpi'] = 100\n",
    "font = {'size'   : 10}\n",
    "plt.rc('font', **font)\n",
    "fig,axes=plt.subplots(2,2)\n",
    "axes[0,1].pie(x=stu_por_GP.address.value_counts(),labels=['Urban','Rural'])\n",
    "axes[0,1].set_title('address')\n",
    "axes[0,0].pie(x=stu_por_GP.sex.value_counts(),labels=['M','F'])\n",
    "axes[0,0].set_title('Gender')\n",
    "axes[1,0].pie(x=stu_por_GP.Medu.value_counts(),labels=['higher','5th to 9th grade','secondary','4th grade','none'])\n",
    "axes[1,0].set_title('mother\\'s education')\n",
    "axes[1,1].pie(x=stu_por_GP.Fedu.value_counts(),labels=['5th to 9th grade','higher','secondary','4th grade','none'])\n",
    "axes[1,1].set_title('father\\'s education')"
   ]
  },
  {
   "cell_type": "code",
   "execution_count": 15,
   "metadata": {},
   "outputs": [
    {
     "data": {
      "text/plain": [
       "<matplotlib.axes._subplots.AxesSubplot at 0x7fc372640748>"
      ]
     },
     "execution_count": 15,
     "metadata": {},
     "output_type": "execute_result"
    },
    {
     "data": {
      "image/png": "[encoded data removed]",
      "text/plain": [
       "<Figure size 800x800 with 1 Axes>"
      ]
     },
     "metadata": {},
     "output_type": "display_data"
    }
   ],
   "source": [
    "stu_por_GP.age.value_counts().plot(kind='bar')"
   ]
  },
  {
   "cell_type": "code",
   "execution_count": 16,
   "metadata": {},
   "outputs": [
    {
     "name": "stdout",
     "output_type": "stream",
     "text": [
      "+------+\n",
      "|school|\n",
      "+------+\n",
      "|    GP|\n",
      "+------+\n",
      "\n",
      "+---+\n",
      "|sex|\n",
      "+---+\n",
      "|  F|\n",
      "|  M|\n",
      "+---+\n",
      "\n",
      "+-------+\n",
      "|address|\n",
      "+-------+\n",
      "|      U|\n",
      "|      R|\n",
      "+-------+\n",
      "\n",
      "+-------+\n",
      "|famsize|\n",
      "+-------+\n",
      "|    LE3|\n",
      "|    GT3|\n",
      "+-------+\n",
      "\n",
      "+-------+\n",
      "|Pstatus|\n",
      "+-------+\n",
      "|      T|\n",
      "|      A|\n",
      "+-------+\n",
      "\n",
      "+--------+\n",
      "|    Mjob|\n",
      "+--------+\n",
      "| at_home|\n",
      "| teacher|\n",
      "|    null|\n",
      "|  health|\n",
      "|services|\n",
      "+--------+\n",
      "\n",
      "+--------+\n",
      "|    Fjob|\n",
      "+--------+\n",
      "| at_home|\n",
      "| teacher|\n",
      "|    null|\n",
      "|  health|\n",
      "|services|\n",
      "+--------+\n",
      "\n",
      "+----------+\n",
      "|    reason|\n",
      "+----------+\n",
      "|reputation|\n",
      "|      null|\n",
      "|    course|\n",
      "|      home|\n",
      "+----------+\n",
      "\n",
      "+--------+\n",
      "|guardian|\n",
      "+--------+\n",
      "|  father|\n",
      "|    null|\n",
      "|  mother|\n",
      "+--------+\n",
      "\n",
      "+---------+\n",
      "|schoolsup|\n",
      "+---------+\n",
      "|       no|\n",
      "|      yes|\n",
      "+---------+\n",
      "\n",
      "+------+\n",
      "|famsup|\n",
      "+------+\n",
      "|    no|\n",
      "|   yes|\n",
      "+------+\n",
      "\n",
      "+----+\n",
      "|paid|\n",
      "+----+\n",
      "|  no|\n",
      "| yes|\n",
      "+----+\n",
      "\n",
      "+----------+\n",
      "|activities|\n",
      "+----------+\n",
      "|        no|\n",
      "|       yes|\n",
      "+----------+\n",
      "\n",
      "+-------+\n",
      "|nursery|\n",
      "+-------+\n",
      "|     no|\n",
      "|    yes|\n",
      "+-------+\n",
      "\n",
      "+------+\n",
      "|higher|\n",
      "+------+\n",
      "|    no|\n",
      "|   yes|\n",
      "+------+\n",
      "\n",
      "+--------+\n",
      "|internet|\n",
      "+--------+\n",
      "|      no|\n",
      "|     yes|\n",
      "+--------+\n",
      "\n",
      "+--------+\n",
      "|romantic|\n",
      "+--------+\n",
      "|      no|\n",
      "|     yes|\n",
      "+--------+\n",
      "\n"
     ]
    }
   ],
   "source": [
    "# Unique values of string columns\n",
    "df.select(\"school\").distinct().show()\n",
    "df.select(\"sex\").distinct().show()\n",
    "df.select(\"address\").distinct().show()\n",
    "df.select(\"famsize\").distinct().show()\n",
    "df.select(\"Pstatus\").distinct().show()\n",
    "df.select(\"Mjob\").distinct().show()\n",
    "df.select(\"Fjob\").distinct().show()\n",
    "df.select(\"reason\").distinct().show()\n",
    "df.select(\"guardian\").distinct().show()\n",
    "df.select(\"schoolsup\").distinct().show()\n",
    "df.select(\"famsup\").distinct().show()\n",
    "df.select(\"paid\").distinct().show()\n",
    "df.select(\"activities\").distinct().show()\n",
    "df.select(\"nursery\").distinct().show()\n",
    "df.select(\"higher\").distinct().show()\n",
    "df.select(\"internet\").distinct().show()\n",
    "df.select(\"romantic\").distinct().show()"
   ]
  },
  {
   "cell_type": "code",
   "execution_count": 17,
   "metadata": {},
   "outputs": [
    {
     "name": "stdout",
     "output_type": "stream",
     "text": [
      "+---+\n",
      "|age|\n",
      "+---+\n",
      "| 22|\n",
      "| 16|\n",
      "| 20|\n",
      "| 19|\n",
      "| 15|\n",
      "| 17|\n",
      "| 21|\n",
      "| 18|\n",
      "+---+\n",
      "\n",
      "+----+\n",
      "|Fedu|\n",
      "+----+\n",
      "|   1|\n",
      "|   3|\n",
      "|   4|\n",
      "|   2|\n",
      "|   0|\n",
      "+----+\n",
      "\n",
      "+----+\n",
      "|Medu|\n",
      "+----+\n",
      "|   1|\n",
      "|   3|\n",
      "|   4|\n",
      "|   2|\n",
      "|   0|\n",
      "+----+\n",
      "\n",
      "+----------+\n",
      "|traveltime|\n",
      "+----------+\n",
      "|         1|\n",
      "|         3|\n",
      "|         4|\n",
      "|         2|\n",
      "+----------+\n",
      "\n",
      "+---------+\n",
      "|studytime|\n",
      "+---------+\n",
      "|        1|\n",
      "|        3|\n",
      "|        4|\n",
      "|        2|\n",
      "+---------+\n",
      "\n",
      "+--------+\n",
      "|failures|\n",
      "+--------+\n",
      "|       1|\n",
      "|       3|\n",
      "|       2|\n",
      "|       0|\n",
      "+--------+\n",
      "\n",
      "+------+\n",
      "|famrel|\n",
      "+------+\n",
      "|     1|\n",
      "|     3|\n",
      "|     5|\n",
      "|     4|\n",
      "|     2|\n",
      "+------+\n",
      "\n",
      "+--------+\n",
      "|freetime|\n",
      "+--------+\n",
      "|       1|\n",
      "|       3|\n",
      "|       5|\n",
      "|       4|\n",
      "|       2|\n",
      "+--------+\n",
      "\n",
      "+-----+\n",
      "|goout|\n",
      "+-----+\n",
      "|    1|\n",
      "|    3|\n",
      "|    5|\n",
      "|    4|\n",
      "|    2|\n",
      "+-----+\n",
      "\n",
      "+----+\n",
      "|Dalc|\n",
      "+----+\n",
      "|   1|\n",
      "|   3|\n",
      "|   5|\n",
      "|   4|\n",
      "|   2|\n",
      "+----+\n",
      "\n",
      "+----+\n",
      "|Walc|\n",
      "+----+\n",
      "|   1|\n",
      "|   3|\n",
      "|   5|\n",
      "|   4|\n",
      "|   2|\n",
      "+----+\n",
      "\n",
      "+------+\n",
      "|health|\n",
      "+------+\n",
      "|     1|\n",
      "|     3|\n",
      "|     5|\n",
      "|     4|\n",
      "|     2|\n",
      "+------+\n",
      "\n",
      "+--------+\n",
      "|absences|\n",
      "+--------+\n",
      "|      26|\n",
      "|      12|\n",
      "|      22|\n",
      "|       1|\n",
      "|      13|\n",
      "|       6|\n",
      "|      16|\n",
      "|       5|\n",
      "|      15|\n",
      "|       9|\n",
      "|       4|\n",
      "|       8|\n",
      "|       7|\n",
      "|      10|\n",
      "|      24|\n",
      "|      21|\n",
      "|      32|\n",
      "|      11|\n",
      "|      14|\n",
      "|       2|\n",
      "+--------+\n",
      "only showing top 20 rows\n",
      "\n",
      "+---+\n",
      "| G1|\n",
      "+---+\n",
      "| 12|\n",
      "| 13|\n",
      "| 16|\n",
      "| 15|\n",
      "|  9|\n",
      "| 17|\n",
      "|  8|\n",
      "|  7|\n",
      "| 10|\n",
      "| 11|\n",
      "| 14|\n",
      "|  0|\n",
      "| 18|\n",
      "+---+\n",
      "\n",
      "+---+\n",
      "| G2|\n",
      "+---+\n",
      "| 12|\n",
      "| 13|\n",
      "| 16|\n",
      "|  6|\n",
      "| 19|\n",
      "| 15|\n",
      "| 17|\n",
      "|  9|\n",
      "|  8|\n",
      "|  7|\n",
      "| 10|\n",
      "| 11|\n",
      "| 14|\n",
      "| 18|\n",
      "+---+\n",
      "\n",
      "+---+\n",
      "| G3|\n",
      "+---+\n",
      "| 12|\n",
      "|  1|\n",
      "| 13|\n",
      "| 16|\n",
      "|  6|\n",
      "|  5|\n",
      "| 19|\n",
      "| 15|\n",
      "| 17|\n",
      "|  9|\n",
      "|  8|\n",
      "|  7|\n",
      "| 10|\n",
      "| 11|\n",
      "| 14|\n",
      "|  0|\n",
      "| 18|\n",
      "+---+\n",
      "\n"
     ]
    }
   ],
   "source": [
    "# Unique values of integer columns\n",
    "df.select(\"age\").distinct().show()\n",
    "df.select(\"Fedu\").distinct().show()\n",
    "df.select(\"Medu\").distinct().show()\n",
    "df.select(\"traveltime\").distinct().show()\n",
    "df.select(\"studytime\").distinct().show()\n",
    "df.select(\"failures\").distinct().show()\n",
    "df.select(\"famrel\").distinct().show()\n",
    "df.select(\"freetime\").distinct().show()\n",
    "df.select(\"goout\").distinct().show()\n",
    "df.select(\"Dalc\").distinct().show()\n",
    "df.select(\"Walc\").distinct().show()\n",
    "df.select(\"health\").distinct().show()\n",
    "df.select(\"absences\").distinct().show()\n",
    "df.select(\"G1\").distinct().show()\n",
    "df.select(\"G2\").distinct().show()\n",
    "df.select(\"G3\").distinct().show()"
   ]
  },
  {
   "cell_type": "code",
   "execution_count": 18,
   "metadata": {},
   "outputs": [
    {
     "data": {
      "text/html": [
       "<div>\n",
       "<style scoped>\n",
       "    .dataframe tbody tr th:only-of-type {\n",
       "        vertical-align: middle;\n",
       "    }\n",
       "\n",
       "    .dataframe tbody tr th {\n",
       "        vertical-align: top;\n",
       "    }\n",
       "\n",
       "    .dataframe thead th {\n",
       "        text-align: right;\n",
       "    }\n",
       "</style>\n",
       "<table border=\"1\" class=\"dataframe\">\n",
       "  <thead>\n",
       "    <tr style=\"text-align: right;\">\n",
       "      <th></th>\n",
       "      <th>count</th>\n",
       "      <th>mean</th>\n",
       "      <th>std</th>\n",
       "      <th>min</th>\n",
       "      <th>25%</th>\n",
       "      <th>50%</th>\n",
       "      <th>75%</th>\n",
       "      <th>max</th>\n",
       "    </tr>\n",
       "  </thead>\n",
       "  <tbody>\n",
       "    <tr>\n",
       "      <th>age</th>\n",
       "      <td>423.0</td>\n",
       "      <td>16.666667</td>\n",
       "      <td>1.244895</td>\n",
       "      <td>15.0</td>\n",
       "      <td>16.0</td>\n",
       "      <td>17.0</td>\n",
       "      <td>18.0</td>\n",
       "      <td>22.0</td>\n",
       "    </tr>\n",
       "    <tr>\n",
       "      <th>Medu</th>\n",
       "      <td>423.0</td>\n",
       "      <td>2.725768</td>\n",
       "      <td>1.077769</td>\n",
       "      <td>0.0</td>\n",
       "      <td>2.0</td>\n",
       "      <td>3.0</td>\n",
       "      <td>4.0</td>\n",
       "      <td>4.0</td>\n",
       "    </tr>\n",
       "    <tr>\n",
       "      <th>Fedu</th>\n",
       "      <td>423.0</td>\n",
       "      <td>2.475177</td>\n",
       "      <td>1.096623</td>\n",
       "      <td>0.0</td>\n",
       "      <td>2.0</td>\n",
       "      <td>2.0</td>\n",
       "      <td>3.0</td>\n",
       "      <td>4.0</td>\n",
       "    </tr>\n",
       "    <tr>\n",
       "      <th>traveltime</th>\n",
       "      <td>423.0</td>\n",
       "      <td>1.430260</td>\n",
       "      <td>0.704913</td>\n",
       "      <td>1.0</td>\n",
       "      <td>1.0</td>\n",
       "      <td>1.0</td>\n",
       "      <td>2.0</td>\n",
       "      <td>4.0</td>\n",
       "    </tr>\n",
       "    <tr>\n",
       "      <th>studytime</th>\n",
       "      <td>423.0</td>\n",
       "      <td>2.014184</td>\n",
       "      <td>0.840214</td>\n",
       "      <td>1.0</td>\n",
       "      <td>1.0</td>\n",
       "      <td>2.0</td>\n",
       "      <td>2.0</td>\n",
       "      <td>4.0</td>\n",
       "    </tr>\n",
       "    <tr>\n",
       "      <th>failures</th>\n",
       "      <td>423.0</td>\n",
       "      <td>0.172577</td>\n",
       "      <td>0.551607</td>\n",
       "      <td>0.0</td>\n",
       "      <td>0.0</td>\n",
       "      <td>0.0</td>\n",
       "      <td>0.0</td>\n",
       "      <td>3.0</td>\n",
       "    </tr>\n",
       "    <tr>\n",
       "      <th>famrel</th>\n",
       "      <td>423.0</td>\n",
       "      <td>3.952719</td>\n",
       "      <td>0.891049</td>\n",
       "      <td>1.0</td>\n",
       "      <td>4.0</td>\n",
       "      <td>4.0</td>\n",
       "      <td>5.0</td>\n",
       "      <td>5.0</td>\n",
       "    </tr>\n",
       "    <tr>\n",
       "      <th>freetime</th>\n",
       "      <td>423.0</td>\n",
       "      <td>3.153664</td>\n",
       "      <td>0.986895</td>\n",
       "      <td>1.0</td>\n",
       "      <td>3.0</td>\n",
       "      <td>3.0</td>\n",
       "      <td>4.0</td>\n",
       "      <td>5.0</td>\n",
       "    </tr>\n",
       "    <tr>\n",
       "      <th>goout</th>\n",
       "      <td>423.0</td>\n",
       "      <td>3.146572</td>\n",
       "      <td>1.152899</td>\n",
       "      <td>1.0</td>\n",
       "      <td>2.0</td>\n",
       "      <td>3.0</td>\n",
       "      <td>4.0</td>\n",
       "      <td>5.0</td>\n",
       "    </tr>\n",
       "    <tr>\n",
       "      <th>Dalc</th>\n",
       "      <td>423.0</td>\n",
       "      <td>1.470449</td>\n",
       "      <td>0.899421</td>\n",
       "      <td>1.0</td>\n",
       "      <td>1.0</td>\n",
       "      <td>1.0</td>\n",
       "      <td>2.0</td>\n",
       "      <td>5.0</td>\n",
       "    </tr>\n",
       "    <tr>\n",
       "      <th>Walc</th>\n",
       "      <td>423.0</td>\n",
       "      <td>2.267139</td>\n",
       "      <td>1.299666</td>\n",
       "      <td>1.0</td>\n",
       "      <td>1.0</td>\n",
       "      <td>2.0</td>\n",
       "      <td>3.0</td>\n",
       "      <td>5.0</td>\n",
       "    </tr>\n",
       "    <tr>\n",
       "      <th>health</th>\n",
       "      <td>423.0</td>\n",
       "      <td>3.598109</td>\n",
       "      <td>1.420632</td>\n",
       "      <td>1.0</td>\n",
       "      <td>3.0</td>\n",
       "      <td>4.0</td>\n",
       "      <td>5.0</td>\n",
       "      <td>5.0</td>\n",
       "    </tr>\n",
       "    <tr>\n",
       "      <th>absences</th>\n",
       "      <td>423.0</td>\n",
       "      <td>4.215130</td>\n",
       "      <td>5.191915</td>\n",
       "      <td>0.0</td>\n",
       "      <td>0.0</td>\n",
       "      <td>2.0</td>\n",
       "      <td>6.0</td>\n",
       "      <td>32.0</td>\n",
       "    </tr>\n",
       "    <tr>\n",
       "      <th>G1</th>\n",
       "      <td>423.0</td>\n",
       "      <td>11.985816</td>\n",
       "      <td>2.418293</td>\n",
       "      <td>0.0</td>\n",
       "      <td>10.0</td>\n",
       "      <td>12.0</td>\n",
       "      <td>14.0</td>\n",
       "      <td>18.0</td>\n",
       "    </tr>\n",
       "    <tr>\n",
       "      <th>G2</th>\n",
       "      <td>423.0</td>\n",
       "      <td>12.144208</td>\n",
       "      <td>2.451522</td>\n",
       "      <td>6.0</td>\n",
       "      <td>10.0</td>\n",
       "      <td>12.0</td>\n",
       "      <td>14.0</td>\n",
       "      <td>19.0</td>\n",
       "    </tr>\n",
       "    <tr>\n",
       "      <th>G3</th>\n",
       "      <td>423.0</td>\n",
       "      <td>12.576832</td>\n",
       "      <td>2.625636</td>\n",
       "      <td>0.0</td>\n",
       "      <td>11.0</td>\n",
       "      <td>13.0</td>\n",
       "      <td>14.0</td>\n",
       "      <td>19.0</td>\n",
       "    </tr>\n",
       "  </tbody>\n",
       "</table>\n",
       "</div>"
      ],
      "text/plain": [
       "            count       mean       std   min   25%   50%   75%   max\n",
       "age         423.0  16.666667  1.244895  15.0  16.0  17.0  18.0  22.0\n",
       "Medu        423.0   2.725768  1.077769   0.0   2.0   3.0   4.0   4.0\n",
       "Fedu        423.0   2.475177  1.096623   0.0   2.0   2.0   3.0   4.0\n",
       "traveltime  423.0   1.430260  0.704913   1.0   1.0   1.0   2.0   4.0\n",
       "studytime   423.0   2.014184  0.840214   1.0   1.0   2.0   2.0   4.0\n",
       "failures    423.0   0.172577  0.551607   0.0   0.0   0.0   0.0   3.0\n",
       "famrel      423.0   3.952719  0.891049   1.0   4.0   4.0   5.0   5.0\n",
       "freetime    423.0   3.153664  0.986895   1.0   3.0   3.0   4.0   5.0\n",
       "goout       423.0   3.146572  1.152899   1.0   2.0   3.0   4.0   5.0\n",
       "Dalc        423.0   1.470449  0.899421   1.0   1.0   1.0   2.0   5.0\n",
       "Walc        423.0   2.267139  1.299666   1.0   1.0   2.0   3.0   5.0\n",
       "health      423.0   3.598109  1.420632   1.0   3.0   4.0   5.0   5.0\n",
       "absences    423.0   4.215130  5.191915   0.0   0.0   2.0   6.0  32.0\n",
       "G1          423.0  11.985816  2.418293   0.0  10.0  12.0  14.0  18.0\n",
       "G2          423.0  12.144208  2.451522   6.0  10.0  12.0  14.0  19.0\n",
       "G3          423.0  12.576832  2.625636   0.0  11.0  13.0  14.0  19.0"
      ]
     },
     "execution_count": 18,
     "metadata": {},
     "output_type": "execute_result"
    }
   ],
   "source": [
    "\n",
    "#Statistics of our data\n",
    "#df.describe().show()\n",
    "df.toPandas().describe().transpose()"
   ]
  },
  {
   "cell_type": "code",
   "execution_count": 19,
   "metadata": {},
   "outputs": [
    {
     "name": "stdout",
     "output_type": "stream",
     "text": [
      "root\n",
      " |-- school: string (nullable = true)\n",
      " |-- Course: string (nullable = true)\n",
      " |-- sex: string (nullable = true)\n",
      " |-- age: integer (nullable = true)\n",
      " |-- address: string (nullable = true)\n",
      " |-- famsize: string (nullable = true)\n",
      " |-- Pstatus: string (nullable = true)\n",
      " |-- Medu: integer (nullable = true)\n",
      " |-- Fedu: integer (nullable = true)\n",
      " |-- Mjob: string (nullable = true)\n",
      " |-- Fjob: string (nullable = true)\n",
      " |-- reason: string (nullable = true)\n",
      " |-- guardian: string (nullable = true)\n",
      " |-- traveltime: integer (nullable = true)\n",
      " |-- studytime: integer (nullable = true)\n",
      " |-- failures: integer (nullable = true)\n",
      " |-- schoolsup: string (nullable = true)\n",
      " |-- famsup: string (nullable = true)\n",
      " |-- paid: string (nullable = true)\n",
      " |-- activities: string (nullable = true)\n",
      " |-- nursery: string (nullable = true)\n",
      " |-- higher: string (nullable = true)\n",
      " |-- internet: string (nullable = true)\n",
      " |-- romantic: string (nullable = true)\n",
      " |-- famrel: integer (nullable = true)\n",
      " |-- freetime: integer (nullable = true)\n",
      " |-- goout: integer (nullable = true)\n",
      " |-- Dalc: integer (nullable = true)\n",
      " |-- Walc: integer (nullable = true)\n",
      " |-- health: integer (nullable = true)\n",
      " |-- absences: integer (nullable = true)\n",
      " |-- G1: integer (nullable = true)\n",
      " |-- G2: integer (nullable = true)\n",
      " |-- G3: integer (nullable = true)\n",
      "\n"
     ]
    }
   ],
   "source": [
    "df.printSchema()"
   ]
  },
  {
   "cell_type": "code",
   "execution_count": 20,
   "metadata": {},
   "outputs": [
    {
     "data": {
      "text/plain": [
       "age           0.556165\n",
       "Medu         -0.247237\n",
       "Fedu          0.025588\n",
       "traveltime    1.778461\n",
       "studytime     0.623459\n",
       "failures      3.636535\n",
       "famrel       -0.977424\n",
       "freetime     -0.118919\n",
       "goout         0.046651\n",
       "Dalc          2.268211\n",
       "Walc          0.646040\n",
       "health       -0.571081\n",
       "absences      1.886107\n",
       "G1           -0.065149\n",
       "G2            0.293869\n",
       "G3           -0.336157\n",
       "dtype: float64"
      ]
     },
     "execution_count": 20,
     "metadata": {},
     "output_type": "execute_result"
    }
   ],
   "source": [
    "df.toPandas().skew(axis=0, skipna=True)"
   ]
  },
  {
   "cell_type": "code",
   "execution_count": 21,
   "metadata": {},
   "outputs": [
    {
     "data": {
      "text/plain": [
       "162"
      ]
     },
     "execution_count": 21,
     "metadata": {},
     "output_type": "execute_result"
    }
   ],
   "source": [
    "df.where(df.Mjob.isNull()).count()"
   ]
  },
  {
   "cell_type": "markdown",
   "metadata": {},
   "source": [
    "## 2.3 explore data"
   ]
  },
  {
   "cell_type": "code",
   "execution_count": null,
   "metadata": {},
   "outputs": [],
   "source": []
  },
  {
   "cell_type": "code",
   "execution_count": 22,
   "metadata": {},
   "outputs": [],
   "source": [
    "# change format of graph\n",
    "plt.rcParams['figure.figsize'] = [20, 10]\n",
    "plt.rcParams['figure.dpi'] = 100\n",
    "font = {'size'   : '10'}\n",
    "plt.rc('font', **font)"
   ]
  },
  {
   "cell_type": "code",
   "execution_count": 23,
   "metadata": {
    "scrolled": true
   },
   "outputs": [
    {
     "data": {
      "text/plain": [
       "array([[<matplotlib.axes._subplots.AxesSubplot object at 0x7fc37250af60>,\n",
       "        <matplotlib.axes._subplots.AxesSubplot object at 0x7fc37252bc50>,\n",
       "        <matplotlib.axes._subplots.AxesSubplot object at 0x7fc372551f28>,\n",
       "        <matplotlib.axes._subplots.AxesSubplot object at 0x7fc3725223c8>],\n",
       "       [<matplotlib.axes._subplots.AxesSubplot object at 0x7fc3724c8470>,\n",
       "        <matplotlib.axes._subplots.AxesSubplot object at 0x7fc3724ea828>,\n",
       "        <matplotlib.axes._subplots.AxesSubplot object at 0x7fc372483b38>,\n",
       "        <matplotlib.axes._subplots.AxesSubplot object at 0x7fc37249ae48>],\n",
       "       [<matplotlib.axes._subplots.AxesSubplot object at 0x7fc372439198>,\n",
       "        <matplotlib.axes._subplots.AxesSubplot object at 0x7fc3724514a8>,\n",
       "        <matplotlib.axes._subplots.AxesSubplot object at 0x7fc37246a7b8>,\n",
       "        <matplotlib.axes._subplots.AxesSubplot object at 0x7fc372403ac8>],\n",
       "       [<matplotlib.axes._subplots.AxesSubplot object at 0x7fc37241ddd8>,\n",
       "        <matplotlib.axes._subplots.AxesSubplot object at 0x7fc3723bd128>,\n",
       "        <matplotlib.axes._subplots.AxesSubplot object at 0x7fc3723d5438>,\n",
       "        <matplotlib.axes._subplots.AxesSubplot object at 0x7fc3723ef748>]],\n",
       "      dtype=object)"
      ]
     },
     "execution_count": 23,
     "metadata": {},
     "output_type": "execute_result"
    },
    {
     "data": {
      "image/png": "[encoded data removed]",
      "text/plain": [
       "<Figure size 2000x1000 with 16 Axes>"
      ]
     },
     "metadata": {},
     "output_type": "display_data"
    }
   ],
   "source": [
    "stu_por_GP[numerical_type+ordinal_type].hist()"
   ]
  },
  {
   "cell_type": "code",
   "execution_count": 24,
   "metadata": {},
   "outputs": [],
   "source": [
    "def plot_multiple_countplots(df, cols):\n",
    "    num_plots = len(cols)\n",
    "    num_cols = math.ceil(np.sqrt(num_plots))\n",
    "    num_rows = math.ceil(num_plots/num_cols)\n",
    "        \n",
    "    fig, axs = plt.subplots(num_rows, num_cols)\n",
    "    \n",
    "    for ind, col in enumerate(cols):\n",
    "        i = math.floor(ind/num_cols)\n",
    "        j = ind - i*num_cols\n",
    "        \n",
    "        if num_rows == 1:\n",
    "            if num_cols == 1:\n",
    "                stu_por_GP[col].value_counts().plot(kind='bar', ax=axs)\n",
    "            else:\n",
    "                stu_por_GP[col].value_counts().plot(kind='bar', ax=axs[j])\n",
    "        else:\n",
    "            stu_por_GP[col].value_counts().plot(kind='bar', ax=axs[i, j])\n"
   ]
  },
  {
   "cell_type": "code",
   "execution_count": 25,
   "metadata": {
    "scrolled": true
   },
   "outputs": [
    {
     "data": {
      "image/png": "[encoded data removed]",
      "text/plain": [
       "<Figure size 2000x1000 with 12 Axes>"
      ]
     },
     "metadata": {},
     "output_type": "display_data"
    }
   ],
   "source": [
    "# multiplot for flag data\n",
    "plot_multiple_countplots(stu_por_GP,flag_type_except)"
   ]
  },
  {
   "cell_type": "code",
   "execution_count": 26,
   "metadata": {},
   "outputs": [
    {
     "data": {
      "text/plain": [
       "Text(0.5,1,'absences vs G3')"
      ]
     },
     "execution_count": 26,
     "metadata": {},
     "output_type": "execute_result"
    },
    {
     "data": {
      "image/png": "[encoded data removed]",
      "text/plain": [
       "<Figure size 2000x1000 with 1 Axes>"
      ]
     },
     "metadata": {},
     "output_type": "display_data"
    }
   ],
   "source": [
    "# visualize the relationship between independent variable with target\n",
    "plt.scatter(stu_por_GP['absences'], stu_por_GP['G3'],cmap='viridis',alpha=0.3);\n",
    "m, b = np.polyfit(stu_por_GP['absences'], stu_por_GP['G3'], 1)\n",
    "plt.plot(stu_por_GP['absences'], m*stu_por_GP['absences'] + b)\n",
    "plt.xlabel('absences') \n",
    "plt.ylabel('G3') \n",
    "plt.title(\"absences vs G3\")"
   ]
  },
  {
   "cell_type": "code",
   "execution_count": 27,
   "metadata": {},
   "outputs": [
    {
     "data": {
      "text/plain": [
       "Text(0.5,1,'Fedu vs G3')"
      ]
     },
     "execution_count": 27,
     "metadata": {},
     "output_type": "execute_result"
    },
    {
     "data": {
      "image/png": "[encoded data removed]",
      "text/plain": [
       "<Figure size 2000x1000 with 1 Axes>"
      ]
     },
     "metadata": {},
     "output_type": "display_data"
    }
   ],
   "source": [
    "# visualize the relationship between independent variable with target\n",
    "plt.scatter(stu_por_GP['Fedu'], stu_por_GP['G3'],cmap='viridis',alpha=0.3);\n",
    "m, b = np.polyfit(stu_por_GP['Fedu'], stu_por_GP['G3'], 1)\n",
    "plt.plot(stu_por_GP['Fedu'], m*stu_por_GP['Fedu'] + b)\n",
    "plt.xlabel('Fedu') \n",
    "plt.ylabel('G3') \n",
    "plt.title(\"Fedu vs G3\")"
   ]
  },
  {
   "cell_type": "code",
   "execution_count": 28,
   "metadata": {
    "scrolled": true
   },
   "outputs": [
    {
     "data": {
      "text/plain": [
       "Text(0.5,1,'Medu vs G3')"
      ]
     },
     "execution_count": 28,
     "metadata": {},
     "output_type": "execute_result"
    },
    {
     "data": {
      "image/png": "[encoded data removed]",
      "text/plain": [
       "<Figure size 2000x1000 with 1 Axes>"
      ]
     },
     "metadata": {},
     "output_type": "display_data"
    }
   ],
   "source": [
    "# visualize the relationship between independent variable with target\n",
    "\n",
    "plt.scatter(stu_por_GP['Medu'], stu_por_GP['G3'],cmap='viridis',alpha=0.3);\n",
    "m, b = np.polyfit(stu_por_GP['Medu'], stu_por_GP['G3'], 1)\n",
    "plt.plot(stu_por_GP['Medu'], m*stu_por_GP['Medu'] + b)\n",
    "plt.xlabel('Medu') \n",
    "plt.ylabel('G3') \n",
    "plt.title(\"Medu vs G3\")"
   ]
  },
  {
   "cell_type": "code",
   "execution_count": 29,
   "metadata": {
    "scrolled": false
   },
   "outputs": [
    {
     "data": {
      "text/plain": [
       "Text(0.5,1,'G1,G2 vs G3')"
      ]
     },
     "execution_count": 29,
     "metadata": {},
     "output_type": "execute_result"
    },
    {
     "data": {
      "image/png": "[encoded data removed]",
      "text/plain": [
       "<Figure size 2000x1000 with 1 Axes>"
      ]
     },
     "metadata": {},
     "output_type": "display_data"
    }
   ],
   "source": [
    "# visualize the relationship between the result in 3 examinations\n",
    "m, b = np.polyfit(stu_por_GP['G1'], stu_por_GP['G3'], 1)\n",
    "plt.plot(stu_por_GP['G1'], m*stu_por_GP['G1'] + b)\n",
    "m, b = np.polyfit(stu_por_GP['G2'], stu_por_GP['G3'], 1)\n",
    "plt.plot(stu_por_GP['G2'], m*stu_por_GP['G2'] + b)\n",
    "plt.ylabel('G3') \n",
    "plt.title(\"G1,G2 vs G3\")"
   ]
  },
  {
   "cell_type": "markdown",
   "metadata": {},
   "source": [
    "## 2.4 quaility of data"
   ]
  },
  {
   "cell_type": "code",
   "execution_count": 30,
   "metadata": {},
   "outputs": [],
   "source": [
    "First_part=['school', 'Course', 'sex', 'age', 'address', 'famsize', 'Pstatus', 'Medu', 'Fedu', 'Mjob', 'Fjob', 'reason',\n",
    " 'guardian', 'traveltime', 'studytime', 'failures']"
   ]
  },
  {
   "cell_type": "code",
   "execution_count": 31,
   "metadata": {},
   "outputs": [],
   "source": [
    "Second_part=['schoolsup', 'famsup', 'paid', 'activities', 'nursery', 'higher', 'internet', 'romantic', 'famrel', 'freetime',\n",
    " 'goout', 'Dalc', 'Walc', 'health', 'absences', 'G1', 'G2', 'G3']"
   ]
  },
  {
   "cell_type": "code",
   "execution_count": 32,
   "metadata": {},
   "outputs": [
    {
     "name": "stdout",
     "output_type": "stream",
     "text": [
      "+------+------+---+---+-------+-------+-------+----+----+----+----+------+--------+----------+---------+--------+\n",
      "|school|Course|sex|age|address|famsize|Pstatus|Medu|Fedu|Mjob|Fjob|reason|guardian|traveltime|studytime|failures|\n",
      "+------+------+---+---+-------+-------+-------+----+----+----+----+------+--------+----------+---------+--------+\n",
      "|     0|     0|  0|  0|      0|      0|      0|   0|   0| 162| 249|    27|      28|         0|        0|       0|\n",
      "+------+------+---+---+-------+-------+-------+----+----+----+----+------+--------+----------+---------+--------+\n",
      "\n",
      "+---------+------+----+----------+-------+------+--------+--------+------+--------+-----+----+----+------+--------+---+---+---+\n",
      "|schoolsup|famsup|paid|activities|nursery|higher|internet|romantic|famrel|freetime|goout|Dalc|Walc|health|absences| G1| G2| G3|\n",
      "+---------+------+----+----------+-------+------+--------+--------+------+--------+-----+----+----+------+--------+---+---+---+\n",
      "|        0|     0|   0|         0|      0|     0|       0|       0|     0|       0|    0|   0|   0|     0|       0|  0|  0|  0|\n",
      "+---------+------+----+----------+-------+------+--------+--------+------+--------+-----+----+----+------+--------+---+---+---+\n",
      "\n"
     ]
    }
   ],
   "source": [
    "df[[First_part]].select([count(when(isnull(c), c)).alias(c) for c in df[[First_part]].columns]).show()\n",
    "df[[Second_part]].select([count(when(isnull(c), c)).alias(c) for c in df[[Second_part]].columns]).show()"
   ]
  },
  {
   "cell_type": "code",
   "execution_count": null,
   "metadata": {},
   "outputs": [],
   "source": []
  },
  {
   "cell_type": "code",
   "execution_count": 6,
   "metadata": {},
   "outputs": [],
   "source": [
    "import matplotlib.pyplot as plt"
   ]
  },
  {
   "cell_type": "code",
   "execution_count": 34,
   "metadata": {
    "scrolled": false
   },
   "outputs": [
    {
     "data": {
      "image/png": "[encoded data removed]",
      "text/plain": [
       "<Figure size 2000x1000 with 1 Axes>"
      ]
     },
     "metadata": {},
     "output_type": "display_data"
    }
   ],
   "source": [
    "df.toPandas().boxplot(figsize=(20,10))\n",
    "plt.show()"
   ]
  },
  {
   "cell_type": "markdown",
   "metadata": {},
   "source": [
    "## 3.2 clean data"
   ]
  },
  {
   "cell_type": "code",
   "execution_count": 35,
   "metadata": {},
   "outputs": [
    {
     "name": "stdout",
     "output_type": "stream",
     "text": [
      "outlier in age:7\n",
      "extremes in age:3\n",
      "outlier in absences:32\n",
      "extremes in absences:11\n",
      "outlier in G1:25\n",
      "extremes in G1:1\n",
      "outlier in G2:29\n",
      "extremes in G2:0\n",
      "outlier in G3:9\n",
      "extremes in G3:3\n"
     ]
    }
   ],
   "source": [
    "#find the outlier\n",
    "for i in numerical_type:\n",
    "    median = stu_por_GP[i].median()\n",
    "    std = stu_por_GP[i].std()\n",
    "    outliers = (stu_por_GP[i] - median).abs() > 2*std\n",
    "    print('outlier in '+i+':'+str(outliers.sum()))\n",
    "    extremes = (stu_por_GP[i] - median).abs() > 3*std\n",
    "    print('extremes in '+i+':'+str(extremes.sum()))"
   ]
  },
  {
   "cell_type": "code",
   "execution_count": 14,
   "metadata": {},
   "outputs": [],
   "source": [
    "#ountlier\n",
    "def outliersReplacer(df):\n",
    "    quantiles_age = df.approxQuantile('age',[0.25,0.75],0.05)\n",
    "    IQR = quantiles_age[1] - quantiles_age[0]\n",
    "    min_value_age = quantiles_age[0] - 1.5 * IQR\n",
    "    max_value_age = quantiles_age[1] + 1.5 * IQR\n",
    "\n",
    "    quantiles_abs = df.approxQuantile('absences',[0.25,0.75],0.05)\n",
    "    IQR = quantiles_abs[1] - quantiles_abs[0]\n",
    "    min_value_abs = quantiles_abs[0] - 1.5 * IQR\n",
    "    max_value_abs = quantiles_abs[1] + 1.5 * IQR\n",
    "\n",
    "    quantiles_g3 = df.approxQuantile('G3',[0.25,0.75],0.05)\n",
    "    IQR = quantiles_g3[1] - quantiles_g3[0]\n",
    "    min_value_g3 = quantiles_g3[0] - 1.5 * IQR\n",
    "    max_value_g3 = quantiles_g3[1] + 1.5 * IQR\n",
    "\n",
    "    quantiles_g1 = df.approxQuantile('G1',[0.25,0.75],0.05)\n",
    "    IQR = quantiles_g1[1] - quantiles_g1[0]\n",
    "    min_value_g1 = quantiles_g1[0] - 1.5 * IQR\n",
    "    max_value_g1 = quantiles_g1[1] + 1.5 * IQR\n",
    "\n",
    "    quantiles_g2 = df.approxQuantile('G2',[0.25,0.75],0.05)\n",
    "    IQR = quantiles_g2[1] - quantiles_g2[0]\n",
    "    min_value_g2 = quantiles_g2[0] - 1.5 * IQR\n",
    "    max_value_g2 = quantiles_g2[1] + 1.5 * IQR\n",
    "\n",
    "    df = df.filter((df['age'] >= min_value_age) & \n",
    "                  (df['age'] <= max_value_age)&\n",
    "                  (df['absences'] >= min_value_abs) & \n",
    "                  (df['absences'] <= max_value_abs) &\n",
    "                 (df['G3'] >= min_value_g3) & \n",
    "                  (df['G3'] <= max_value_g3)&\n",
    "                (df['G2'] >= min_value_g2) & \n",
    "                  (df['G2'] <= max_value_g2)&\n",
    "                (df['G1'] >= min_value_g1) & \n",
    "                  (df['G1'] <= max_value_g1))\n",
    "outliersReplacer(df)"
   ]
  },
  {
   "cell_type": "code",
   "execution_count": 37,
   "metadata": {},
   "outputs": [
    {
     "name": "stdout",
     "output_type": "stream",
     "text": [
      "outlier in age:7\n",
      "extremes in age:3\n",
      "outlier in absences:32\n",
      "extremes in absences:11\n",
      "outlier in G1:25\n",
      "extremes in G1:1\n",
      "outlier in G2:29\n",
      "extremes in G2:0\n",
      "outlier in G3:9\n",
      "extremes in G3:3\n"
     ]
    }
   ],
   "source": [
    "stu_por_GP=df.toPandas()\n",
    "#check the outlier\n",
    "for i in numerical_type:\n",
    "    median = stu_por_GP[i].median()\n",
    "    std = stu_por_GP[i].std()\n",
    "    outliers = (stu_por_GP[i] - median).abs() > 2*std\n",
    "    print('outlier in '+i+':'+str(outliers.sum()))\n",
    "    extremes = (stu_por_GP[i] - median).abs() > 3*std\n",
    "    print('extremes in '+i+':'+str(extremes.sum()))"
   ]
  },
  {
   "cell_type": "code",
   "execution_count": 38,
   "metadata": {},
   "outputs": [],
   "source": [
    "# Impute missing values in column failures\n",
    "df = df.na.fill({'Mjob': 'other','Fjob': 'other','reason': 'other','guardian': 'other'})"
   ]
  },
  {
   "cell_type": "code",
   "execution_count": 39,
   "metadata": {},
   "outputs": [
    {
     "name": "stdout",
     "output_type": "stream",
     "text": [
      "+------+------+---+---+-------+-------+-------+----+----+----+----+------+--------+----------+---------+--------+\n",
      "|school|Course|sex|age|address|famsize|Pstatus|Medu|Fedu|Mjob|Fjob|reason|guardian|traveltime|studytime|failures|\n",
      "+------+------+---+---+-------+-------+-------+----+----+----+----+------+--------+----------+---------+--------+\n",
      "|     0|     0|  0|  0|      0|      0|      0|   0|   0|   0|   0|     0|       0|         0|        0|       0|\n",
      "+------+------+---+---+-------+-------+-------+----+----+----+----+------+--------+----------+---------+--------+\n",
      "\n",
      "+---------+------+----+----------+-------+------+--------+--------+------+--------+-----+----+----+------+--------+---+---+---+\n",
      "|schoolsup|famsup|paid|activities|nursery|higher|internet|romantic|famrel|freetime|goout|Dalc|Walc|health|absences| G1| G2| G3|\n",
      "+---------+------+----+----------+-------+------+--------+--------+------+--------+-----+----+----+------+--------+---+---+---+\n",
      "|        0|     0|   0|         0|      0|     0|       0|       0|     0|       0|    0|   0|   0|     0|       0|  0|  0|  0|\n",
      "+---------+------+----+----------+-------+------+--------+--------+------+--------+-----+----+----+------+--------+---+---+---+\n",
      "\n"
     ]
    }
   ],
   "source": [
    "df[[First_part]].select([count(when(isnull(c), c)).alias(c) for c in df[[First_part]].columns]).show()\n",
    "df[[Second_part]].select([count(when(isnull(c), c)).alias(c) for c in df[[Second_part]].columns]).show()"
   ]
  },
  {
   "cell_type": "markdown",
   "metadata": {},
   "source": [
    "## 3.3 Construct data"
   ]
  },
  {
   "cell_type": "code",
   "execution_count": 26,
   "metadata": {},
   "outputs": [],
   "source": [
    "# Import VectorAssembler and Vectors\n",
    "from pyspark.ml.feature import StringIndexer, OneHotEncoder,VectorAssembler\n",
    "from pyspark.ml import Pipeline"
   ]
  },
  {
   "cell_type": "code",
   "execution_count": 27,
   "metadata": {},
   "outputs": [],
   "source": [
    "numerical_columns=['age', 'Medu', 'Fedu', 'traveltime', 'studytime', 'failures', 'famrel', 'freetime', 'goout', 'Dalc', 'health', 'absences']\n",
    "categorical_columns = ['sex', 'famsize', 'Pstatus', 'schoolsup', 'famsup', 'paid', 'higher', 'internet', 'romantic']"
   ]
  },
  {
   "cell_type": "code",
   "execution_count": 15,
   "metadata": {},
   "outputs": [],
   "source": [
    "def construct(df,categorical_columns,numerical_columns):\n",
    "    stringindexer_stages = [StringIndexer(inputCol=c, outputCol='strindexed_' + c) for c in categorical_columns]\n",
    "    # encode label column and add it to stringindexer_stages\n",
    "    stringindexer_stages += [StringIndexer(inputCol='G3', outputCol='label')]\n",
    "    \n",
    "    onehotencoder_stages = [OneHotEncoder(inputCol='strindexed_' + c, outputCol='onehot_' + c) for c in categorical_columns]\n",
    "    \n",
    "    feature_columns = ['onehot_' + c for c in categorical_columns]\n",
    "    feature_columns += numerical_columns\n",
    "    vectorassembler_stage = VectorAssembler(inputCols=feature_columns, outputCol='features')\n",
    "    \n",
    "    allc = stringindexer_stages + onehotencoder_stages + [vectorassembler_stage]\n",
    "    pipeline = Pipeline(stages=allc)\n",
    "    pipeline_model = pipeline.fit(df)\n",
    "    final_columns = feature_columns + ['features', 'label']\n",
    "    constructed = pipeline_model.transform(df).\\\n",
    "            select(final_columns)\n",
    "            \n",
    "    return constructed"
   ]
  },
  {
   "cell_type": "code",
   "execution_count": 43,
   "metadata": {},
   "outputs": [
    {
     "name": "stdout",
     "output_type": "stream",
     "text": [
      "+-------------+--------------+--------------+----------------+-------------+-------------+-------------+---------------+---------------+---+----+----+----------+---------+--------+------+--------+-----+----+------+--------+--------------------+-----+\n",
      "|   onehot_sex|onehot_famsize|onehot_Pstatus|onehot_schoolsup|onehot_famsup|  onehot_paid|onehot_higher|onehot_internet|onehot_romantic|age|Medu|Fedu|traveltime|studytime|failures|famrel|freetime|goout|Dalc|health|absences|            features|label|\n",
      "+-------------+--------------+--------------+----------------+-------------+-------------+-------------+---------------+---------------+---+----+----+----------+---------+--------+------+--------+-----+----+------+--------+--------------------+-----+\n",
      "|(1,[0],[1.0])| (1,[0],[1.0])|     (1,[],[])|       (1,[],[])|    (1,[],[])|(1,[0],[1.0])|(1,[0],[1.0])|      (1,[],[])|  (1,[0],[1.0])| 18|   4|   4|         2|        2|       0|     4|       3|    4|   1|     3|       4|[1.0,1.0,0.0,0.0,...|  0.0|\n",
      "+-------------+--------------+--------------+----------------+-------------+-------------+-------------+---------------+---------------+---+----+----+----------+---------+--------+------+--------+-----+----+------+--------+--------------------+-----+\n",
      "only showing top 1 row\n",
      "\n"
     ]
    }
   ],
   "source": [
    "construct(df,categorical_columns,numerical_columns).show(1)"
   ]
  },
  {
   "cell_type": "code",
   "execution_count": 44,
   "metadata": {},
   "outputs": [
    {
     "name": "stdout",
     "output_type": "stream",
     "text": [
      "+------+----------+---+---+-------+-------+-------+----+----+--------+--------+----------+--------+----------+---------+--------+---------+------+----+----------+-------+------+--------+--------+------+--------+-----+----+----+------+--------+---+---+---+\n",
      "|school|    Course|sex|age|address|famsize|Pstatus|Medu|Fedu|    Mjob|    Fjob|    reason|guardian|traveltime|studytime|failures|schoolsup|famsup|paid|activities|nursery|higher|internet|romantic|famrel|freetime|goout|Dalc|Walc|health|absences| G1| G2| G3|\n",
      "+------+----------+---+---+-------+-------+-------+----+----+--------+--------+----------+--------+----------+---------+--------+---------+------+----+----------+-------+------+--------+--------+------+--------+-----+----+----+------+--------+---+---+---+\n",
      "|    GP|Portuguese|  F| 18|      U|    GT3|      A|   4|   4| at_home| teacher|    course|  mother|         2|        2|       0|      yes|    no|  no|        no|    yes|   yes|      no|      no|     4|       3|    4|   1|   1|     3|       4|  0| 11| 11|\n",
      "|    GP|Portuguese|  F| 17|      U|    GT3|      T|   1|   1| at_home|   other|    course|  father|         1|        2|       0|       no|   yes|  no|        no|     no|   yes|     yes|      no|     5|       3|    3|   1|   1|     3|       2|  9| 11| 11|\n",
      "|    GP|Portuguese|  F| 15|      U|    LE3|      T|   1|   1| at_home|   other|     other|  mother|         1|        2|       0|      yes|    no|  no|        no|    yes|   yes|     yes|      no|     4|       3|    2|   2|   3|     3|       6| 12| 13| 12|\n",
      "|    GP|Portuguese|  F| 15|      U|    GT3|      T|   4|   2|  health|services|      home|  mother|         1|        3|       0|       no|   yes|  no|       yes|    yes|   yes|     yes|     yes|     3|       2|    2|   1|   1|     5|       0| 14| 14| 14|\n",
      "|    GP|Portuguese|  F| 16|      U|    GT3|      T|   3|   3|   other|   other|      home|  father|         1|        2|       0|       no|   yes|  no|        no|    yes|   yes|      no|      no|     4|       3|    2|   1|   2|     5|       0| 11| 13| 13|\n",
      "|    GP|Portuguese|  M| 16|      U|    LE3|      T|   4|   3|services|   other|reputation|  mother|         1|        2|       0|       no|   yes|  no|       yes|    yes|   yes|     yes|      no|     5|       4|    2|   1|   2|     5|       6| 12| 12| 13|\n",
      "|    GP|Portuguese|  M| 16|      U|    LE3|      T|   2|   2|   other|   other|      home|  mother|         1|        2|       0|       no|    no|  no|        no|    yes|   yes|     yes|      no|     4|       4|    4|   1|   1|     3|       0| 13| 12| 13|\n",
      "|    GP|Portuguese|  F| 17|      U|    GT3|      A|   4|   4|   other| teacher|      home|  mother|         2|        2|       0|      yes|   yes|  no|        no|    yes|   yes|      no|      no|     4|       1|    4|   1|   1|     1|       2| 10| 13| 13|\n",
      "|    GP|Portuguese|  M| 15|      U|    LE3|      A|   3|   2|services|   other|      home|  mother|         1|        2|       0|       no|   yes|  no|        no|    yes|   yes|     yes|      no|     4|       2|    2|   1|   1|     1|       0| 15| 16| 17|\n",
      "|    GP|Portuguese|  M| 15|      U|    GT3|      T|   3|   4|   other|   other|      home|  mother|         1|        2|       0|       no|   yes|  no|       yes|    yes|   yes|     yes|      no|     5|       5|    1|   1|   1|     5|       0| 12| 12| 13|\n",
      "|    GP|Portuguese|  F| 15|      U|    GT3|      T|   4|   4| teacher|  health|reputation|  mother|         1|        2|       0|       no|   yes|  no|        no|    yes|   yes|     yes|      no|     3|       3|    3|   1|   2|     2|       2| 14| 14| 14|\n",
      "|    GP|Portuguese|  F| 15|      U|    GT3|      T|   2|   1|services|   other|reputation|  father|         3|        3|       0|       no|   yes|  no|       yes|    yes|   yes|     yes|      no|     5|       2|    2|   1|   1|     4|       0| 10| 12| 13|\n",
      "|    GP|Portuguese|  M| 15|      U|    LE3|      T|   4|   4|  health|services|    course|  father|         1|        1|       0|       no|   yes|  no|       yes|    yes|   yes|     yes|      no|     4|       3|    3|   1|   3|     5|       0| 12| 13| 12|\n",
      "|    GP|Portuguese|  M| 15|      U|    GT3|      T|   4|   3| teacher|   other|    course|  mother|         2|        2|       0|       no|   yes|  no|        no|    yes|   yes|     yes|      no|     5|       4|    3|   1|   2|     3|       0| 12| 12| 13|\n",
      "|    GP|Portuguese|  M| 15|      U|    GT3|      A|   2|   2|   other|   other|      home|   other|         1|        3|       0|       no|   yes|  no|        no|    yes|   yes|     yes|     yes|     4|       5|    2|   1|   1|     3|       0| 14| 14| 15|\n",
      "|    GP|Portuguese|  F| 16|      U|    GT3|      T|   4|   4|  health|   other|      home|  mother|         1|        1|       0|       no|   yes|  no|        no|    yes|   yes|     yes|      no|     4|       4|    4|   1|   2|     2|       6| 17| 17| 17|\n",
      "|    GP|Portuguese|  F| 16|      U|    GT3|      T|   4|   4|services|services|reputation|  mother|         1|        3|       0|       no|   yes|  no|       yes|    yes|   yes|     yes|      no|     3|       2|    3|   1|   2|     2|      10| 13| 13| 14|\n",
      "|    GP|Portuguese|  F| 16|      U|    GT3|      T|   3|   3|   other|   other|reputation|  mother|         3|        2|       0|      yes|   yes|  no|       yes|    yes|   yes|      no|      no|     5|       3|    2|   1|   1|     4|       2| 13| 14| 14|\n",
      "|    GP|Portuguese|  M| 17|      U|    GT3|      T|   3|   2|services|services|    course|  mother|         1|        1|       3|       no|   yes| yes|       yes|    yes|   yes|     yes|      no|     5|       5|    5|   2|   4|     5|       2|  8|  8|  7|\n",
      "|    GP|Portuguese|  M| 16|      U|    LE3|      T|   4|   3|  health|   other|      home|  father|         1|        1|       0|       no|    no|  no|       yes|    yes|   yes|     yes|      no|     3|       1|    3|   1|   3|     5|       6| 12| 12| 12|\n",
      "+------+----------+---+---+-------+-------+-------+----+----+--------+--------+----------+--------+----------+---------+--------+---------+------+----+----------+-------+------+--------+--------+------+--------+-----+----+----+------+--------+---+---+---+\n",
      "only showing top 20 rows\n",
      "\n"
     ]
    }
   ],
   "source": [
    "df.show()"
   ]
  },
  {
   "cell_type": "markdown",
   "metadata": {},
   "source": [
    "## 3.5 Integrate various data sources"
   ]
  },
  {
   "cell_type": "code",
   "execution_count": 7,
   "metadata": {},
   "outputs": [],
   "source": [
    "df1 = spark.read.csv('stu_por_GP.csv', header=True, inferSchema=True)\n",
    "df2 = spark.read.csv('stu_por_MS.csv', header=True, inferSchema=True)\n",
    "df3 = spark.read.csv('stu_mat_GP.csv', header=True, inferSchema=True)\n",
    "df4 = spark.read.csv('stu_mat_MS.csv', header=True, inferSchema=True)"
   ]
  },
  {
   "cell_type": "code",
   "execution_count": 8,
   "metadata": {},
   "outputs": [
    {
     "name": "stdout",
     "output_type": "stream",
     "text": [
      "['school', 'Course', 'sex', 'age', 'address', 'famsize', 'Pstatus', 'Medu', 'Fedu', 'Mjob', 'Fjob', 'reason', 'guardian', 'traveltime', 'studytime', 'failures', 'schoolsup', 'famsup', 'paid', 'activities', 'nursery', 'higher', 'internet', 'romantic', 'famrel', 'freetime', 'goout', 'Dalc', 'Walc', 'health', 'absences', 'G1', 'G2', 'G3']\n",
      "['school', 'Course', 'sex', 'age', 'address', 'famsize', 'Pstatus', 'Medu', 'Fedu', 'Mjob', 'Fjob', 'reason', 'guardian', 'traveltime', 'studytime', 'failures', 'schoolsup', 'famsup', 'paid', 'activities', 'nursery', 'higher', 'internet', 'romantic', 'famrel', 'freetime', 'goout', 'Dalc', 'Walc', 'health', 'absences', 'G1', 'G2', 'G3']\n",
      "['school', 'Course', 'sex', 'age', 'address', 'famsize', 'Pstatus', 'Medu', 'Fedu', 'Mjob', 'Fjob', 'reason', 'guardian', 'traveltime', 'studytime', 'failures', 'schoolsup', 'famsup', 'paid', 'activities', 'nursery', 'higher', 'internet', 'romantic', 'famrel', 'freetime', 'goout', 'Dalc', 'Walc', 'health', 'absences', 'G1', 'G2', 'G3']\n",
      "['school', 'Course', 'sex', 'age', 'address', 'famsize', 'Pstatus', 'Medu', 'Fedu', 'Mjob', 'Fjob', 'reason', 'guardian', 'traveltime', 'studytime', 'failures', 'schoolsup', 'famsup', 'paid', 'activities', 'nursery', 'higher', 'internet', 'romantic', 'famrel', 'freetime', 'goout', 'Dalc', 'Walc', 'health', 'absences', 'G1', 'G2', 'G3']\n"
     ]
    }
   ],
   "source": [
    "print(df1.columns)\n",
    "print(df2.columns)\n",
    "print(df3.columns)\n",
    "print(df4.columns)"
   ]
  },
  {
   "cell_type": "code",
   "execution_count": 9,
   "metadata": {},
   "outputs": [],
   "source": [
    "df= df1.union(df2).union(df3).union(df4)"
   ]
  },
  {
   "cell_type": "code",
   "execution_count": 48,
   "metadata": {},
   "outputs": [
    {
     "name": "stdout",
     "output_type": "stream",
     "text": [
      "+------+\n",
      "|school|\n",
      "+------+\n",
      "|    MS|\n",
      "|    GP|\n",
      "+------+\n",
      "\n",
      "+----------+\n",
      "|    Course|\n",
      "+----------+\n",
      "|      Math|\n",
      "|Portuguese|\n",
      "+----------+\n",
      "\n",
      "+------+\n",
      "|   sex|\n",
      "+------+\n",
      "|     F|\n",
      "|Female|\n",
      "|     M|\n",
      "|  Male|\n",
      "+------+\n",
      "\n",
      "+-------+\n",
      "|address|\n",
      "+-------+\n",
      "|      U|\n",
      "|      R|\n",
      "+-------+\n",
      "\n",
      "+-------+\n",
      "|famsize|\n",
      "+-------+\n",
      "|    LE3|\n",
      "|    GT3|\n",
      "+-------+\n",
      "\n",
      "+-------+\n",
      "|Pstatus|\n",
      "+-------+\n",
      "|      T|\n",
      "|      A|\n",
      "+-------+\n",
      "\n",
      "+--------+\n",
      "|    Mjob|\n",
      "+--------+\n",
      "| at_home|\n",
      "| teacher|\n",
      "|    null|\n",
      "|  health|\n",
      "|services|\n",
      "+--------+\n",
      "\n",
      "+--------+\n",
      "|    Fjob|\n",
      "+--------+\n",
      "| at_home|\n",
      "| teacher|\n",
      "|    null|\n",
      "|  health|\n",
      "|services|\n",
      "+--------+\n",
      "\n",
      "+----------+\n",
      "|    reason|\n",
      "+----------+\n",
      "|reputation|\n",
      "|      null|\n",
      "|    course|\n",
      "|      home|\n",
      "+----------+\n",
      "\n",
      "+--------+\n",
      "|guardian|\n",
      "+--------+\n",
      "|  father|\n",
      "|    null|\n",
      "|  mother|\n",
      "+--------+\n",
      "\n",
      "+---------+\n",
      "|schoolsup|\n",
      "+---------+\n",
      "|       no|\n",
      "|      yes|\n",
      "+---------+\n",
      "\n",
      "+------+\n",
      "|famsup|\n",
      "+------+\n",
      "|    no|\n",
      "|   yes|\n",
      "+------+\n",
      "\n",
      "+----+\n",
      "|paid|\n",
      "+----+\n",
      "|  no|\n",
      "| yes|\n",
      "+----+\n",
      "\n",
      "+----------+\n",
      "|activities|\n",
      "+----------+\n",
      "|        no|\n",
      "|       yes|\n",
      "+----------+\n",
      "\n",
      "+-------+\n",
      "|nursery|\n",
      "+-------+\n",
      "|     no|\n",
      "|    yes|\n",
      "+-------+\n",
      "\n",
      "+------+\n",
      "|higher|\n",
      "+------+\n",
      "|    no|\n",
      "|   yes|\n",
      "+------+\n",
      "\n",
      "+--------+\n",
      "|internet|\n",
      "+--------+\n",
      "|      no|\n",
      "|     yes|\n",
      "+--------+\n",
      "\n",
      "+--------+\n",
      "|romantic|\n",
      "+--------+\n",
      "|      no|\n",
      "|     yes|\n",
      "+--------+\n",
      "\n"
     ]
    }
   ],
   "source": [
    "df.select(\"school\").distinct().show()\n",
    "df.select(\"Course\").distinct().show()\n",
    "df.select(\"sex\").distinct().show()\n",
    "df.select(\"address\").distinct().show()\n",
    "df.select(\"famsize\").distinct().show()\n",
    "df.select(\"Pstatus\").distinct().show()\n",
    "df.select(\"Mjob\").distinct().show()\n",
    "df.select(\"Fjob\").distinct().show()\n",
    "df.select(\"reason\").distinct().show()\n",
    "df.select(\"guardian\").distinct().show()\n",
    "df.select(\"schoolsup\").distinct().show()\n",
    "df.select(\"famsup\").distinct().show()\n",
    "df.select(\"paid\").distinct().show()\n",
    "df.select(\"activities\").distinct().show()\n",
    "df.select(\"nursery\").distinct().show()\n",
    "df.select(\"higher\").distinct().show()\n",
    "df.select(\"internet\").distinct().show()\n",
    "df.select(\"romantic\").distinct().show()"
   ]
  },
  {
   "cell_type": "code",
   "execution_count": 49,
   "metadata": {},
   "outputs": [
    {
     "name": "stdout",
     "output_type": "stream",
     "text": [
      "+---+\n",
      "|age|\n",
      "+---+\n",
      "| 22|\n",
      "| 16|\n",
      "| 20|\n",
      "| 19|\n",
      "| 15|\n",
      "| 17|\n",
      "| 21|\n",
      "| 18|\n",
      "+---+\n",
      "\n",
      "+----+\n",
      "|Fedu|\n",
      "+----+\n",
      "|   1|\n",
      "|   3|\n",
      "|   4|\n",
      "|   2|\n",
      "|   0|\n",
      "+----+\n",
      "\n",
      "+----+\n",
      "|Medu|\n",
      "+----+\n",
      "|   1|\n",
      "|   3|\n",
      "|   4|\n",
      "|   2|\n",
      "|   0|\n",
      "+----+\n",
      "\n",
      "+----------+\n",
      "|traveltime|\n",
      "+----------+\n",
      "|         1|\n",
      "|         3|\n",
      "|         4|\n",
      "|         2|\n",
      "+----------+\n",
      "\n",
      "+---------+\n",
      "|studytime|\n",
      "+---------+\n",
      "|        1|\n",
      "|        3|\n",
      "|        4|\n",
      "|        2|\n",
      "+---------+\n",
      "\n",
      "+--------+\n",
      "|failures|\n",
      "+--------+\n",
      "|       1|\n",
      "|       3|\n",
      "|       2|\n",
      "|       0|\n",
      "+--------+\n",
      "\n",
      "+------+\n",
      "|famrel|\n",
      "+------+\n",
      "|     1|\n",
      "|     3|\n",
      "|     5|\n",
      "|     4|\n",
      "|     2|\n",
      "+------+\n",
      "\n",
      "+--------+\n",
      "|freetime|\n",
      "+--------+\n",
      "|       1|\n",
      "|       3|\n",
      "|       5|\n",
      "|       4|\n",
      "|       2|\n",
      "+--------+\n",
      "\n",
      "+-----+\n",
      "|goout|\n",
      "+-----+\n",
      "|    1|\n",
      "|    3|\n",
      "|    5|\n",
      "|    4|\n",
      "|    2|\n",
      "+-----+\n",
      "\n",
      "+----+\n",
      "|Dalc|\n",
      "+----+\n",
      "|   1|\n",
      "|   3|\n",
      "|   5|\n",
      "|   4|\n",
      "|   2|\n",
      "+----+\n",
      "\n",
      "+----+\n",
      "|Walc|\n",
      "+----+\n",
      "|   1|\n",
      "|   3|\n",
      "|   5|\n",
      "|   4|\n",
      "|   2|\n",
      "+----+\n",
      "\n",
      "+------+\n",
      "|health|\n",
      "+------+\n",
      "|     1|\n",
      "|     3|\n",
      "|     5|\n",
      "|     4|\n",
      "|     2|\n",
      "+------+\n",
      "\n",
      "+--------+\n",
      "|absences|\n",
      "+--------+\n",
      "|      28|\n",
      "|      26|\n",
      "|      12|\n",
      "|      22|\n",
      "|       1|\n",
      "|      13|\n",
      "|       6|\n",
      "|      16|\n",
      "|       3|\n",
      "|      20|\n",
      "|      40|\n",
      "|      54|\n",
      "|       5|\n",
      "|      19|\n",
      "|      15|\n",
      "|       9|\n",
      "|      17|\n",
      "|       4|\n",
      "|       8|\n",
      "|      23|\n",
      "+--------+\n",
      "only showing top 20 rows\n",
      "\n",
      "+---+\n",
      "| G1|\n",
      "+---+\n",
      "| 12|\n",
      "| 13|\n",
      "| 16|\n",
      "|  6|\n",
      "|  3|\n",
      "|  5|\n",
      "| 19|\n",
      "| 15|\n",
      "|  9|\n",
      "| 17|\n",
      "|  4|\n",
      "|  8|\n",
      "|  7|\n",
      "| 10|\n",
      "| 11|\n",
      "| 14|\n",
      "|  0|\n",
      "| 18|\n",
      "+---+\n",
      "\n",
      "+---+\n",
      "| G2|\n",
      "+---+\n",
      "| 12|\n",
      "| 13|\n",
      "| 16|\n",
      "|  6|\n",
      "|  5|\n",
      "| 19|\n",
      "| 15|\n",
      "| 17|\n",
      "|  9|\n",
      "|  4|\n",
      "|  8|\n",
      "|  7|\n",
      "| 10|\n",
      "| 11|\n",
      "| 14|\n",
      "|  0|\n",
      "| 18|\n",
      "+---+\n",
      "\n",
      "+---+\n",
      "| G3|\n",
      "+---+\n",
      "| 12|\n",
      "|  1|\n",
      "| 13|\n",
      "| 16|\n",
      "|  6|\n",
      "| 20|\n",
      "|  5|\n",
      "| 19|\n",
      "| 15|\n",
      "| 17|\n",
      "|  9|\n",
      "|  4|\n",
      "|  8|\n",
      "|  7|\n",
      "| 10|\n",
      "| 11|\n",
      "| 14|\n",
      "|  0|\n",
      "| 18|\n",
      "+---+\n",
      "\n"
     ]
    }
   ],
   "source": [
    "df.select(\"age\").distinct().show()\n",
    "df.select(\"Fedu\").distinct().show()\n",
    "df.select(\"Medu\").distinct().show()\n",
    "df.select(\"traveltime\").distinct().show()\n",
    "df.select(\"studytime\").distinct().show()\n",
    "df.select(\"failures\").distinct().show()\n",
    "df.select(\"famrel\").distinct().show()\n",
    "df.select(\"freetime\").distinct().show()\n",
    "df.select(\"goout\").distinct().show()\n",
    "df.select(\"Dalc\").distinct().show()\n",
    "df.select(\"Walc\").distinct().show()\n",
    "df.select(\"health\").distinct().show()\n",
    "df.select(\"absences\").distinct().show()\n",
    "df.select(\"G1\").distinct().show()\n",
    "df.select(\"G2\").distinct().show()\n",
    "df.select(\"G3\").distinct().show()"
   ]
  },
  {
   "cell_type": "code",
   "execution_count": 50,
   "metadata": {},
   "outputs": [
    {
     "name": "stdout",
     "output_type": "stream",
     "text": [
      "(1044, 34)\n"
     ]
    }
   ],
   "source": [
    "print((df.count(), len(df.columns)))"
   ]
  },
  {
   "cell_type": "code",
   "execution_count": 10,
   "metadata": {},
   "outputs": [
    {
     "name": "stdout",
     "output_type": "stream",
     "text": [
      "+------+\n",
      "|   sex|\n",
      "+------+\n",
      "|     F|\n",
      "|Female|\n",
      "|     M|\n",
      "|  Male|\n",
      "+------+\n",
      "\n"
     ]
    }
   ],
   "source": [
    "df.select(\"sex\").distinct().show()"
   ]
  },
  {
   "cell_type": "code",
   "execution_count": 11,
   "metadata": {},
   "outputs": [],
   "source": [
    "df=df.replace('Female','F')\n",
    "df=df.replace('Male','M')"
   ]
  },
  {
   "cell_type": "code",
   "execution_count": 12,
   "metadata": {},
   "outputs": [
    {
     "name": "stdout",
     "output_type": "stream",
     "text": [
      "+---+\n",
      "|sex|\n",
      "+---+\n",
      "|  F|\n",
      "|  M|\n",
      "+---+\n",
      "\n"
     ]
    }
   ],
   "source": [
    "df.select(\"sex\").distinct().show()"
   ]
  },
  {
   "cell_type": "code",
   "execution_count": 17,
   "metadata": {},
   "outputs": [],
   "source": [
    "#outliers\n",
    "outliersReplacer(df)"
   ]
  },
  {
   "cell_type": "code",
   "execution_count": 18,
   "metadata": {},
   "outputs": [],
   "source": [
    "# Impute missing values in column failures\n",
    "df = df.na.fill({'Mjob': 'other','Fjob': 'other','reason': 'other','guardian': 'other'})"
   ]
  },
  {
   "cell_type": "code",
   "execution_count": 56,
   "metadata": {},
   "outputs": [],
   "source": [
    "constructed=construct(df,categorical_columns,numerical_columns)"
   ]
  },
  {
   "cell_type": "code",
   "execution_count": 57,
   "metadata": {},
   "outputs": [
    {
     "name": "stdout",
     "output_type": "stream",
     "text": [
      "+-------------+--------------+--------------+----------------+-------------+-------------+-------------+---------------+---------------+---+----+----+----------+---------+--------+------+--------+-----+----+------+--------+--------------------+-----+\n",
      "|   onehot_sex|onehot_famsize|onehot_Pstatus|onehot_schoolsup|onehot_famsup|  onehot_paid|onehot_higher|onehot_internet|onehot_romantic|age|Medu|Fedu|traveltime|studytime|failures|famrel|freetime|goout|Dalc|health|absences|            features|label|\n",
      "+-------------+--------------+--------------+----------------+-------------+-------------+-------------+---------------+---------------+---+----+----+----------+---------+--------+------+--------+-----+----+------+--------+--------------------+-----+\n",
      "|(1,[0],[1.0])| (1,[0],[1.0])|     (1,[],[])|       (1,[],[])|    (1,[],[])|(1,[0],[1.0])|(1,[0],[1.0])|      (1,[],[])|  (1,[0],[1.0])| 18|   4|   4|         2|        2|       0|     4|       3|    4|   1|     3|       4|[1.0,1.0,0.0,0.0,...|  1.0|\n",
      "+-------------+--------------+--------------+----------------+-------------+-------------+-------------+---------------+---------------+---+----+----+----------+---------+--------+------+--------+-----+----+------+--------+--------------------+-----+\n",
      "only showing top 1 row\n",
      "\n"
     ]
    }
   ],
   "source": [
    "constructed.show(1)"
   ]
  },
  {
   "cell_type": "code",
   "execution_count": 19,
   "metadata": {},
   "outputs": [
    {
     "name": "stdout",
     "output_type": "stream",
     "text": [
      "(395, 34)\n",
      "(649, 34)\n"
     ]
    }
   ],
   "source": [
    "math = df[df['Course']=='Math']\n",
    "Port= df[df['Course']=='Portuguese']\n",
    "print((math.count(), len(math.columns)))\n",
    "print((Port.count(), len(Port.columns)))"
   ]
  },
  {
   "cell_type": "code",
   "execution_count": 59,
   "metadata": {},
   "outputs": [
    {
     "data": {
      "text/plain": [
       "SparseVector(21, {0: 0.0169, 1: 0.0185, 2: 0.0119, 3: 0.0285, 4: 0.0161, 5: 0.0273, 6: 0.0366, 7: 0.022, 8: 0.027, 9: 0.0736, 10: 0.0693, 11: 0.0666, 12: 0.0352, 13: 0.0405, 14: 0.1308, 15: 0.0326, 16: 0.0413, 17: 0.0442, 18: 0.0422, 19: 0.0723, 20: 0.1467})"
      ]
     },
     "execution_count": 59,
     "metadata": {},
     "output_type": "execute_result"
    }
   ],
   "source": [
    "from pyspark.ml.classification import RandomForestClassifier\n",
    "rf = RandomForestClassifier()\n",
    "model = rf.fit(constructed)\n",
    "model.featureImportances\n"
   ]
  },
  {
   "cell_type": "code",
   "execution_count": 60,
   "metadata": {},
   "outputs": [
    {
     "name": "stdout",
     "output_type": "stream",
     "text": [
      "['onehot_sex', 'onehot_famsize', 'onehot_Pstatus', 'onehot_schoolsup', 'onehot_famsup', 'onehot_paid', 'onehot_higher', 'onehot_internet', 'onehot_romantic', 'age', 'Medu', 'Fedu', 'traveltime', 'studytime', 'failures', 'famrel', 'freetime', 'goout', 'Dalc', 'health', 'absences', 'features', 'label']\n"
     ]
    }
   ],
   "source": [
    "print(constructed.columns)"
   ]
  },
  {
   "cell_type": "code",
   "execution_count": 61,
   "metadata": {},
   "outputs": [],
   "source": [
    "vect=model.featureImportances"
   ]
  },
  {
   "cell_type": "code",
   "execution_count": 62,
   "metadata": {},
   "outputs": [],
   "source": [
    "vec=[]\n",
    "for i in vect:\n",
    "    vec.append(i)"
   ]
  },
  {
   "cell_type": "code",
   "execution_count": 63,
   "metadata": {},
   "outputs": [],
   "source": [
    "features = pd.DataFrame({'feature': constructed.columns[:-2], 'importance':vec})"
   ]
  },
  {
   "cell_type": "code",
   "execution_count": 64,
   "metadata": {},
   "outputs": [
    {
     "data": {
      "text/html": [
       "<div>\n",
       "<style scoped>\n",
       "    .dataframe tbody tr th:only-of-type {\n",
       "        vertical-align: middle;\n",
       "    }\n",
       "\n",
       "    .dataframe tbody tr th {\n",
       "        vertical-align: top;\n",
       "    }\n",
       "\n",
       "    .dataframe thead th {\n",
       "        text-align: right;\n",
       "    }\n",
       "</style>\n",
       "<table border=\"1\" class=\"dataframe\">\n",
       "  <thead>\n",
       "    <tr style=\"text-align: right;\">\n",
       "      <th></th>\n",
       "      <th>feature</th>\n",
       "      <th>importance</th>\n",
       "    </tr>\n",
       "  </thead>\n",
       "  <tbody>\n",
       "    <tr>\n",
       "      <th>0</th>\n",
       "      <td>onehot_sex</td>\n",
       "      <td>0.016876</td>\n",
       "    </tr>\n",
       "    <tr>\n",
       "      <th>1</th>\n",
       "      <td>onehot_famsize</td>\n",
       "      <td>0.018507</td>\n",
       "    </tr>\n",
       "    <tr>\n",
       "      <th>2</th>\n",
       "      <td>onehot_Pstatus</td>\n",
       "      <td>0.011890</td>\n",
       "    </tr>\n",
       "    <tr>\n",
       "      <th>3</th>\n",
       "      <td>onehot_schoolsup</td>\n",
       "      <td>0.028457</td>\n",
       "    </tr>\n",
       "    <tr>\n",
       "      <th>4</th>\n",
       "      <td>onehot_famsup</td>\n",
       "      <td>0.016096</td>\n",
       "    </tr>\n",
       "    <tr>\n",
       "      <th>5</th>\n",
       "      <td>onehot_paid</td>\n",
       "      <td>0.027322</td>\n",
       "    </tr>\n",
       "    <tr>\n",
       "      <th>6</th>\n",
       "      <td>onehot_higher</td>\n",
       "      <td>0.036602</td>\n",
       "    </tr>\n",
       "    <tr>\n",
       "      <th>7</th>\n",
       "      <td>onehot_internet</td>\n",
       "      <td>0.021976</td>\n",
       "    </tr>\n",
       "    <tr>\n",
       "      <th>8</th>\n",
       "      <td>onehot_romantic</td>\n",
       "      <td>0.026994</td>\n",
       "    </tr>\n",
       "    <tr>\n",
       "      <th>9</th>\n",
       "      <td>age</td>\n",
       "      <td>0.073617</td>\n",
       "    </tr>\n",
       "    <tr>\n",
       "      <th>10</th>\n",
       "      <td>Medu</td>\n",
       "      <td>0.069274</td>\n",
       "    </tr>\n",
       "    <tr>\n",
       "      <th>11</th>\n",
       "      <td>Fedu</td>\n",
       "      <td>0.066589</td>\n",
       "    </tr>\n",
       "    <tr>\n",
       "      <th>12</th>\n",
       "      <td>traveltime</td>\n",
       "      <td>0.035239</td>\n",
       "    </tr>\n",
       "    <tr>\n",
       "      <th>13</th>\n",
       "      <td>studytime</td>\n",
       "      <td>0.040472</td>\n",
       "    </tr>\n",
       "    <tr>\n",
       "      <th>14</th>\n",
       "      <td>failures</td>\n",
       "      <td>0.130754</td>\n",
       "    </tr>\n",
       "    <tr>\n",
       "      <th>15</th>\n",
       "      <td>famrel</td>\n",
       "      <td>0.032621</td>\n",
       "    </tr>\n",
       "    <tr>\n",
       "      <th>16</th>\n",
       "      <td>freetime</td>\n",
       "      <td>0.041330</td>\n",
       "    </tr>\n",
       "    <tr>\n",
       "      <th>17</th>\n",
       "      <td>goout</td>\n",
       "      <td>0.044194</td>\n",
       "    </tr>\n",
       "    <tr>\n",
       "      <th>18</th>\n",
       "      <td>Dalc</td>\n",
       "      <td>0.042212</td>\n",
       "    </tr>\n",
       "    <tr>\n",
       "      <th>19</th>\n",
       "      <td>health</td>\n",
       "      <td>0.072322</td>\n",
       "    </tr>\n",
       "    <tr>\n",
       "      <th>20</th>\n",
       "      <td>absences</td>\n",
       "      <td>0.146656</td>\n",
       "    </tr>\n",
       "  </tbody>\n",
       "</table>\n",
       "</div>"
      ],
      "text/plain": [
       "             feature  importance\n",
       "0         onehot_sex    0.016876\n",
       "1     onehot_famsize    0.018507\n",
       "2     onehot_Pstatus    0.011890\n",
       "3   onehot_schoolsup    0.028457\n",
       "4      onehot_famsup    0.016096\n",
       "5        onehot_paid    0.027322\n",
       "6      onehot_higher    0.036602\n",
       "7    onehot_internet    0.021976\n",
       "8    onehot_romantic    0.026994\n",
       "9                age    0.073617\n",
       "10              Medu    0.069274\n",
       "11              Fedu    0.066589\n",
       "12        traveltime    0.035239\n",
       "13         studytime    0.040472\n",
       "14          failures    0.130754\n",
       "15            famrel    0.032621\n",
       "16          freetime    0.041330\n",
       "17             goout    0.044194\n",
       "18              Dalc    0.042212\n",
       "19            health    0.072322\n",
       "20          absences    0.146656"
      ]
     },
     "execution_count": 64,
     "metadata": {},
     "output_type": "execute_result"
    }
   ],
   "source": [
    "features"
   ]
  },
  {
   "cell_type": "code",
   "execution_count": 20,
   "metadata": {},
   "outputs": [
    {
     "data": {
      "text/plain": [
       "<bound method DataFrame.toPandas of DataFrame[school: string, Course: string, sex: string, age: int, address: string, famsize: string, Pstatus: string, Medu: int, Fedu: int, Mjob: string, Fjob: string, reason: string, guardian: string, traveltime: int, studytime: int, failures: int, schoolsup: string, famsup: string, paid: string, activities: string, nursery: string, higher: string, internet: string, romantic: string, famrel: int, freetime: int, goout: int, Dalc: int, Walc: int, health: int, absences: int, G1: int, G2: int, G3: int]>"
      ]
     },
     "execution_count": 20,
     "metadata": {},
     "output_type": "execute_result"
    }
   ],
   "source": [
    "Port.toPandas"
   ]
  },
  {
   "cell_type": "code",
   "execution_count": 66,
   "metadata": {},
   "outputs": [
    {
     "data": {
      "text/plain": [
       "array([[<matplotlib.axes._subplots.AxesSubplot object at 0x7fc37203e4e0>,\n",
       "        <matplotlib.axes._subplots.AxesSubplot object at 0x7fc371c7cda0>],\n",
       "       [<matplotlib.axes._subplots.AxesSubplot object at 0x7fc371c59dd8>,\n",
       "        <matplotlib.axes._subplots.AxesSubplot object at 0x7fc371cc2588>]],\n",
       "      dtype=object)"
      ]
     },
     "execution_count": 66,
     "metadata": {},
     "output_type": "execute_result"
    },
    {
     "data": {
      "image/png": "[encoded data removed]",
      "text/plain": [
       "<Figure size 2000x1000 with 4 Axes>"
      ]
     },
     "metadata": {},
     "output_type": "display_data"
    }
   ],
   "source": [
    "Port.toPandas()[['age','absences','G3']].hist()"
   ]
  },
  {
   "cell_type": "code",
   "execution_count": 22,
   "metadata": {
    "scrolled": false
   },
   "outputs": [
    {
     "data": {
      "text/plain": [
       "array([[<matplotlib.axes._subplots.AxesSubplot object at 0x7f1db16fc780>]],\n",
       "      dtype=object)"
      ]
     },
     "execution_count": 22,
     "metadata": {},
     "output_type": "execute_result"
    },
    {
     "data": {
      "image/png": "[encoded data removed]",
      "text/plain": [
       "<Figure size 432x288 with 1 Axes>"
      ]
     },
     "metadata": {},
     "output_type": "display_data"
    }
   ],
   "source": [
    "from pyspark.sql.functions import col\n",
    "df.withColumn(\"log\",log10(df[\"absences\"])).toPandas()[['log']].hist()"
   ]
  },
  {
   "cell_type": "code",
   "execution_count": 56,
   "metadata": {},
   "outputs": [],
   "source": [
    "PortD=Port.drop(col(\"G2\"))\n",
    "PortD=PortD.drop(col(\"G1\"))"
   ]
  },
  {
   "cell_type": "code",
   "execution_count": 57,
   "metadata": {
    "scrolled": true
   },
   "outputs": [
    {
     "name": "stdout",
     "output_type": "stream",
     "text": [
      "Train Data count:\n",
      "524\n",
      "Test Data count:\n",
      "125\n"
     ]
    }
   ],
   "source": [
    "##7.1 split\n",
    "# Step 7: Data Mining\n",
    "# Splitting data into 80-20 training and test sets.\n",
    "train, test = PortD.randomSplit([0.8, 0.2], seed=1)\n",
    "print(\"Train Data count:\")\n",
    "print(train.count())\n",
    "print(\"Test Data count:\")\n",
    "print(test.count())"
   ]
  },
  {
   "cell_type": "code",
   "execution_count": 58,
   "metadata": {},
   "outputs": [],
   "source": [
    "constructed=construct(PortD,categorical_columns,numerical_columns)"
   ]
  },
  {
   "cell_type": "code",
   "execution_count": 60,
   "metadata": {},
   "outputs": [],
   "source": [
    "ctrain=construct(train,categorical_columns,numerical_columns)"
   ]
  },
  {
   "cell_type": "code",
   "execution_count": 30,
   "metadata": {},
   "outputs": [],
   "source": [
    "## modeling"
   ]
  },
  {
   "cell_type": "code",
   "execution_count": 61,
   "metadata": {},
   "outputs": [],
   "source": [
    "# Kmeans\n",
    "from pyspark.ml.clustering import KMeans\n",
    "kmeans = KMeans(k=4, seed=1)  # 2 clusters here\n",
    "kmodel = kmeans.fit(constructed.select('features'))"
   ]
  },
  {
   "cell_type": "code",
   "execution_count": 62,
   "metadata": {},
   "outputs": [],
   "source": [
    "transformed = kmodel.transform(constructed) "
   ]
  },
  {
   "cell_type": "code",
   "execution_count": 80,
   "metadata": {},
   "outputs": [
    {
     "data": {
      "text/plain": [
       "DataFrame[onehot_sex: vector, onehot_famsize: vector, onehot_Pstatus: vector, onehot_schoolsup: vector, onehot_famsup: vector, onehot_paid: vector, onehot_higher: vector, onehot_internet: vector, onehot_romantic: vector, age: int, Medu: int, Fedu: int, traveltime: int, studytime: int, failures: int, famrel: int, freetime: int, goout: int, Dalc: int, health: int, absences: int, features: vector, label: double, prediction: int]"
      ]
     },
     "execution_count": 80,
     "metadata": {},
     "output_type": "execute_result"
    }
   ],
   "source": [
    "transformed"
   ]
  },
  {
   "cell_type": "code",
   "execution_count": 63,
   "metadata": {},
   "outputs": [],
   "source": [
    "transformedpd=transformed.toPandas()"
   ]
  },
  {
   "cell_type": "code",
   "execution_count": 65,
   "metadata": {},
   "outputs": [],
   "source": [
    "###!pip3 install plotly"
   ]
  },
  {
   "cell_type": "code",
   "execution_count": 37,
   "metadata": {},
   "outputs": [],
   "source": [
    "import plotly.express as px"
   ]
  },
  {
   "cell_type": "code",
   "execution_count": 66,
   "metadata": {},
   "outputs": [],
   "source": [
    "dfpd[\"prediction\"]=transformedpd[\"prediction\"]"
   ]
  },
  {
   "cell_type": "code",
   "execution_count": 83,
   "metadata": {},
   "outputs": [
    {
     "data": {
      "application/vnd.plotly.v1+json": {
       "config": {
        "plotlyServerURL": "https://plot.ly"
       },
       "data": [
        {
         "hovertemplate": "prediction=0.0<br>value=%{r}<br>variable=%{theta}<extra></extra>",
         "legendgroup": "0.0",
         "line": {
          "color": "#636efa",
          "dash": "solid"
         },
         "mode": "lines",
         "name": "0.0",
         "r": [
          16.617486338797814,
          2.5081967213114753,
          2.2841530054644807,
          1.5683060109289617,
          2.0136612021857925,
          0.17759562841530055,
          4.038251366120218,
          3.191256830601093,
          3.112021857923497,
          1.4262295081967213,
          2.1557377049180326,
          3.579234972677596,
          0.6338797814207651,
          11.800546448087431,
          11.8551912568306,
          12.098360655737705,
          16.617486338797814
         ],
         "showlegend": true,
         "subplot": "polar",
         "theta": [
          "age",
          "Medu",
          "Fedu",
          "traveltime",
          "studytime",
          "failures",
          "famrel",
          "freetime",
          "goout",
          "Dalc",
          "Walc",
          "health",
          "absences",
          "G1",
          "G2",
          "G3",
          "age"
         ],
         "type": "scatterpolar"
        },
        {
         "hovertemplate": "prediction=1.0<br>value=%{r}<br>variable=%{theta}<extra></extra>",
         "legendgroup": "1.0",
         "line": {
          "color": "#EF553B",
          "dash": "solid"
         },
         "mode": "lines",
         "name": "1.0",
         "r": [
          16.695121951219512,
          2.5853658536585367,
          2.3597560975609757,
          1.5731707317073171,
          1.8475609756097562,
          0.21341463414634146,
          3.8597560975609757,
          3.1707317073170733,
          3.1341463414634148,
          1.3902439024390243,
          2.207317073170732,
          3.481707317073171,
          4.682926829268292,
          11.103658536585366,
          11.49390243902439,
          11.975609756097562,
          16.695121951219512
         ],
         "showlegend": true,
         "subplot": "polar",
         "theta": [
          "age",
          "Medu",
          "Fedu",
          "traveltime",
          "studytime",
          "failures",
          "famrel",
          "freetime",
          "goout",
          "Dalc",
          "Walc",
          "health",
          "absences",
          "G1",
          "G2",
          "G3",
          "age"
         ],
         "type": "scatterpolar"
        },
        {
         "hovertemplate": "prediction=2.0<br>value=%{r}<br>variable=%{theta}<extra></extra>",
         "legendgroup": "2.0",
         "line": {
          "color": "#00cc96",
          "dash": "solid"
         },
         "mode": "lines",
         "name": "2.0",
         "r": [
          17.363636363636363,
          2.5454545454545454,
          2.272727272727273,
          1.3636363636363635,
          1.4545454545454546,
          0.45454545454545453,
          4,
          3.3636363636363638,
          3.090909090909091,
          2,
          2.5454545454545454,
          2.909090909090909,
          22.90909090909091,
          10.818181818181818,
          10.909090909090908,
          11.181818181818182,
          17.363636363636363
         ],
         "showlegend": true,
         "subplot": "polar",
         "theta": [
          "age",
          "Medu",
          "Fedu",
          "traveltime",
          "studytime",
          "failures",
          "famrel",
          "freetime",
          "goout",
          "Dalc",
          "Walc",
          "health",
          "absences",
          "G1",
          "G2",
          "G3",
          "age"
         ],
         "type": "scatterpolar"
        },
        {
         "hovertemplate": "prediction=3.0<br>value=%{r}<br>variable=%{theta}<extra></extra>",
         "legendgroup": "3.0",
         "line": {
          "color": "#ab63fa",
          "dash": "solid"
         },
         "mode": "lines",
         "name": "3.0",
         "r": [
          17.185185185185187,
          2.425925925925926,
          2.3055555555555554,
          1.5833333333333333,
          1.8240740740740742,
          0.3611111111111111,
          3.6666666666666665,
          3.138888888888889,
          3.5185185185185186,
          1.8796296296296295,
          2.787037037037037,
          3.537037037037037,
          10.398148148148149,
          10.546296296296296,
          10.787037037037036,
          11.222222222222221,
          17.185185185185187
         ],
         "showlegend": true,
         "subplot": "polar",
         "theta": [
          "age",
          "Medu",
          "Fedu",
          "traveltime",
          "studytime",
          "failures",
          "famrel",
          "freetime",
          "goout",
          "Dalc",
          "Walc",
          "health",
          "absences",
          "G1",
          "G2",
          "G3",
          "age"
         ],
         "type": "scatterpolar"
        }
       ],
       "layout": {
        "height": 600,
        "legend": {
         "title": {
          "text": "prediction"
         },
         "tracegroupgap": 0
        },
        "margin": {
         "t": 60
        },
        "polar": {
         "angularaxis": {
          "direction": "clockwise",
          "rotation": 90
         },
         "domain": {
          "x": [
           0,
           1
          ],
          "y": [
           0,
           1
          ]
         }
        },
        "template": {
         "data": {
          "bar": [
           {
            "error_x": {
             "color": "#2a3f5f"
            },
            "error_y": {
             "color": "#2a3f5f"
            },
            "marker": {
             "line": {
              "color": "#E5ECF6",
              "width": 0.5
             }
            },
            "type": "bar"
           }
          ],
          "barpolar": [
           {
            "marker": {
             "line": {
              "color": "#E5ECF6",
              "width": 0.5
             }
            },
            "type": "barpolar"
           }
          ],
          "carpet": [
           {
            "aaxis": {
             "endlinecolor": "#2a3f5f",
             "gridcolor": "white",
             "linecolor": "white",
             "minorgridcolor": "white",
             "startlinecolor": "#2a3f5f"
            },
            "baxis": {
             "endlinecolor": "#2a3f5f",
             "gridcolor": "white",
             "linecolor": "white",
             "minorgridcolor": "white",
             "startlinecolor": "#2a3f5f"
            },
            "type": "carpet"
           }
          ],
          "choropleth": [
           {
            "colorbar": {
             "outlinewidth": 0,
             "ticks": ""
            },
            "type": "choropleth"
           }
          ],
          "contour": [
           {
            "colorbar": {
             "outlinewidth": 0,
             "ticks": ""
            },
            "colorscale": [
             [
              0,
              "#0d0887"
             ],
             [
              0.1111111111111111,
              "#46039f"
             ],
             [
              0.2222222222222222,
              "#7201a8"
             ],
             [
              0.3333333333333333,
              "#9c179e"
             ],
             [
              0.4444444444444444,
              "#bd3786"
             ],
             [
              0.5555555555555556,
              "#d8576b"
             ],
             [
              0.6666666666666666,
              "#ed7953"
             ],
             [
              0.7777777777777778,
              "#fb9f3a"
             ],
             [
              0.8888888888888888,
              "#fdca26"
             ],
             [
              1,
              "#f0f921"
             ]
            ],
            "type": "contour"
           }
          ],
          "contourcarpet": [
           {
            "colorbar": {
             "outlinewidth": 0,
             "ticks": ""
            },
            "type": "contourcarpet"
           }
          ],
          "heatmap": [
           {
            "colorbar": {
             "outlinewidth": 0,
             "ticks": ""
            },
            "colorscale": [
             [
              0,
              "#0d0887"
             ],
             [
              0.1111111111111111,
              "#46039f"
             ],
             [
              0.2222222222222222,
              "#7201a8"
             ],
             [
              0.3333333333333333,
              "#9c179e"
             ],
             [
              0.4444444444444444,
              "#bd3786"
             ],
             [
              0.5555555555555556,
              "#d8576b"
             ],
             [
              0.6666666666666666,
              "#ed7953"
             ],
             [
              0.7777777777777778,
              "#fb9f3a"
             ],
             [
              0.8888888888888888,
              "#fdca26"
             ],
             [
              1,
              "#f0f921"
             ]
            ],
            "type": "heatmap"
           }
          ],
          "heatmapgl": [
           {
            "colorbar": {
             "outlinewidth": 0,
             "ticks": ""
            },
            "colorscale": [
             [
              0,
              "#0d0887"
             ],
             [
              0.1111111111111111,
              "#46039f"
             ],
             [
              0.2222222222222222,
              "#7201a8"
             ],
             [
              0.3333333333333333,
              "#9c179e"
             ],
             [
              0.4444444444444444,
              "#bd3786"
             ],
             [
              0.5555555555555556,
              "#d8576b"
             ],
             [
              0.6666666666666666,
              "#ed7953"
             ],
             [
              0.7777777777777778,
              "#fb9f3a"
             ],
             [
              0.8888888888888888,
              "#fdca26"
             ],
             [
              1,
              "#f0f921"
             ]
            ],
            "type": "heatmapgl"
           }
          ],
          "histogram": [
           {
            "marker": {
             "colorbar": {
              "outlinewidth": 0,
              "ticks": ""
             }
            },
            "type": "histogram"
           }
          ],
          "histogram2d": [
           {
            "colorbar": {
             "outlinewidth": 0,
             "ticks": ""
            },
            "colorscale": [
             [
              0,
              "#0d0887"
             ],
             [
              0.1111111111111111,
              "#46039f"
             ],
             [
              0.2222222222222222,
              "#7201a8"
             ],
             [
              0.3333333333333333,
              "#9c179e"
             ],
             [
              0.4444444444444444,
              "#bd3786"
             ],
             [
              0.5555555555555556,
              "#d8576b"
             ],
             [
              0.6666666666666666,
              "#ed7953"
             ],
             [
              0.7777777777777778,
              "#fb9f3a"
             ],
             [
              0.8888888888888888,
              "#fdca26"
             ],
             [
              1,
              "#f0f921"
             ]
            ],
            "type": "histogram2d"
           }
          ],
          "histogram2dcontour": [
           {
            "colorbar": {
             "outlinewidth": 0,
             "ticks": ""
            },
            "colorscale": [
             [
              0,
              "#0d0887"
             ],
             [
              0.1111111111111111,
              "#46039f"
             ],
             [
              0.2222222222222222,
              "#7201a8"
             ],
             [
              0.3333333333333333,
              "#9c179e"
             ],
             [
              0.4444444444444444,
              "#bd3786"
             ],
             [
              0.5555555555555556,
              "#d8576b"
             ],
             [
              0.6666666666666666,
              "#ed7953"
             ],
             [
              0.7777777777777778,
              "#fb9f3a"
             ],
             [
              0.8888888888888888,
              "#fdca26"
             ],
             [
              1,
              "#f0f921"
             ]
            ],
            "type": "histogram2dcontour"
           }
          ],
          "mesh3d": [
           {
            "colorbar": {
             "outlinewidth": 0,
             "ticks": ""
            },
            "type": "mesh3d"
           }
          ],
          "parcoords": [
           {
            "line": {
             "colorbar": {
              "outlinewidth": 0,
              "ticks": ""
             }
            },
            "type": "parcoords"
           }
          ],
          "pie": [
           {
            "automargin": true,
            "type": "pie"
           }
          ],
          "scatter": [
           {
            "marker": {
             "colorbar": {
              "outlinewidth": 0,
              "ticks": ""
             }
            },
            "type": "scatter"
           }
          ],
          "scatter3d": [
           {
            "line": {
             "colorbar": {
              "outlinewidth": 0,
              "ticks": ""
             }
            },
            "marker": {
             "colorbar": {
              "outlinewidth": 0,
              "ticks": ""
             }
            },
            "type": "scatter3d"
           }
          ],
          "scattercarpet": [
           {
            "marker": {
             "colorbar": {
              "outlinewidth": 0,
              "ticks": ""
             }
            },
            "type": "scattercarpet"
           }
          ],
          "scattergeo": [
           {
            "marker": {
             "colorbar": {
              "outlinewidth": 0,
              "ticks": ""
             }
            },
            "type": "scattergeo"
           }
          ],
          "scattergl": [
           {
            "marker": {
             "colorbar": {
              "outlinewidth": 0,
              "ticks": ""
             }
            },
            "type": "scattergl"
           }
          ],
          "scattermapbox": [
           {
            "marker": {
             "colorbar": {
              "outlinewidth": 0,
              "ticks": ""
             }
            },
            "type": "scattermapbox"
           }
          ],
          "scatterpolar": [
           {
            "marker": {
             "colorbar": {
              "outlinewidth": 0,
              "ticks": ""
             }
            },
            "type": "scatterpolar"
           }
          ],
          "scatterpolargl": [
           {
            "marker": {
             "colorbar": {
              "outlinewidth": 0,
              "ticks": ""
             }
            },
            "type": "scatterpolargl"
           }
          ],
          "scatterternary": [
           {
            "marker": {
             "colorbar": {
              "outlinewidth": 0,
              "ticks": ""
             }
            },
            "type": "scatterternary"
           }
          ],
          "surface": [
           {
            "colorbar": {
             "outlinewidth": 0,
             "ticks": ""
            },
            "colorscale": [
             [
              0,
              "#0d0887"
             ],
             [
              0.1111111111111111,
              "#46039f"
             ],
             [
              0.2222222222222222,
              "#7201a8"
             ],
             [
              0.3333333333333333,
              "#9c179e"
             ],
             [
              0.4444444444444444,
              "#bd3786"
             ],
             [
              0.5555555555555556,
              "#d8576b"
             ],
             [
              0.6666666666666666,
              "#ed7953"
             ],
             [
              0.7777777777777778,
              "#fb9f3a"
             ],
             [
              0.8888888888888888,
              "#fdca26"
             ],
             [
              1,
              "#f0f921"
             ]
            ],
            "type": "surface"
           }
          ],
          "table": [
           {
            "cells": {
             "fill": {
              "color": "#EBF0F8"
             },
             "line": {
              "color": "white"
             }
            },
            "header": {
             "fill": {
              "color": "#C8D4E3"
             },
             "line": {
              "color": "white"
             }
            },
            "type": "table"
           }
          ]
         },
         "layout": {
          "annotationdefaults": {
           "arrowcolor": "#2a3f5f",
           "arrowhead": 0,
           "arrowwidth": 1
          },
          "autotypenumbers": "strict",
          "coloraxis": {
           "colorbar": {
            "outlinewidth": 0,
            "ticks": ""
           }
          },
          "colorscale": {
           "diverging": [
            [
             0,
             "#8e0152"
            ],
            [
             0.1,
             "#c51b7d"
            ],
            [
             0.2,
             "#de77ae"
            ],
            [
             0.3,
             "#f1b6da"
            ],
            [
             0.4,
             "#fde0ef"
            ],
            [
             0.5,
             "#f7f7f7"
            ],
            [
             0.6,
             "#e6f5d0"
            ],
            [
             0.7,
             "#b8e186"
            ],
            [
             0.8,
             "#7fbc41"
            ],
            [
             0.9,
             "#4d9221"
            ],
            [
             1,
             "#276419"
            ]
           ],
           "sequential": [
            [
             0,
             "#0d0887"
            ],
            [
             0.1111111111111111,
             "#46039f"
            ],
            [
             0.2222222222222222,
             "#7201a8"
            ],
            [
             0.3333333333333333,
             "#9c179e"
            ],
            [
             0.4444444444444444,
             "#bd3786"
            ],
            [
             0.5555555555555556,
             "#d8576b"
            ],
            [
             0.6666666666666666,
             "#ed7953"
            ],
            [
             0.7777777777777778,
             "#fb9f3a"
            ],
            [
             0.8888888888888888,
             "#fdca26"
            ],
            [
             1,
             "#f0f921"
            ]
           ],
           "sequentialminus": [
            [
             0,
             "#0d0887"
            ],
            [
             0.1111111111111111,
             "#46039f"
            ],
            [
             0.2222222222222222,
             "#7201a8"
            ],
            [
             0.3333333333333333,
             "#9c179e"
            ],
            [
             0.4444444444444444,
             "#bd3786"
            ],
            [
             0.5555555555555556,
             "#d8576b"
            ],
            [
             0.6666666666666666,
             "#ed7953"
            ],
            [
             0.7777777777777778,
             "#fb9f3a"
            ],
            [
             0.8888888888888888,
             "#fdca26"
            ],
            [
             1,
             "#f0f921"
            ]
           ]
          },
          "colorway": [
           "#636efa",
           "#EF553B",
           "#00cc96",
           "#ab63fa",
           "#FFA15A",
           "#19d3f3",
           "#FF6692",
           "#B6E880",
           "#FF97FF",
           "#FECB52"
          ],
          "font": {
           "color": "#2a3f5f"
          },
          "geo": {
           "bgcolor": "white",
           "lakecolor": "white",
           "landcolor": "#E5ECF6",
           "showlakes": true,
           "showland": true,
           "subunitcolor": "white"
          },
          "hoverlabel": {
           "align": "left"
          },
          "hovermode": "closest",
          "mapbox": {
           "style": "light"
          },
          "paper_bgcolor": "white",
          "plot_bgcolor": "#E5ECF6",
          "polar": {
           "angularaxis": {
            "gridcolor": "white",
            "linecolor": "white",
            "ticks": ""
           },
           "bgcolor": "#E5ECF6",
           "radialaxis": {
            "gridcolor": "white",
            "linecolor": "white",
            "ticks": ""
           }
          },
          "scene": {
           "xaxis": {
            "backgroundcolor": "#E5ECF6",
            "gridcolor": "white",
            "gridwidth": 2,
            "linecolor": "white",
            "showbackground": true,
            "ticks": "",
            "zerolinecolor": "white"
           },
           "yaxis": {
            "backgroundcolor": "#E5ECF6",
            "gridcolor": "white",
            "gridwidth": 2,
            "linecolor": "white",
            "showbackground": true,
            "ticks": "",
            "zerolinecolor": "white"
           },
           "zaxis": {
            "backgroundcolor": "#E5ECF6",
            "gridcolor": "white",
            "gridwidth": 2,
            "linecolor": "white",
            "showbackground": true,
            "ticks": "",
            "zerolinecolor": "white"
           }
          },
          "shapedefaults": {
           "line": {
            "color": "#2a3f5f"
           }
          },
          "ternary": {
           "aaxis": {
            "gridcolor": "white",
            "linecolor": "white",
            "ticks": ""
           },
           "baxis": {
            "gridcolor": "white",
            "linecolor": "white",
            "ticks": ""
           },
           "bgcolor": "#E5ECF6",
           "caxis": {
            "gridcolor": "white",
            "linecolor": "white",
            "ticks": ""
           }
          },
          "title": {
           "x": 0.05
          },
          "xaxis": {
           "automargin": true,
           "gridcolor": "white",
           "linecolor": "white",
           "ticks": "",
           "title": {
            "standoff": 15
           },
           "zerolinecolor": "white",
           "zerolinewidth": 2
          },
          "yaxis": {
           "automargin": true,
           "gridcolor": "white",
           "linecolor": "white",
           "ticks": "",
           "title": {
            "standoff": 15
           },
           "zerolinecolor": "white",
           "zerolinewidth": 2
          }
         }
        },
        "width": 1000
       }
      },
      "text/html": [
       "<div>                            <div id=\"4c6a0c5e-5109-4b78-a76d-e527778c9afc\" class=\"plotly-graph-div\" style=\"height:600px; width:1000px;\"></div>            <script type=\"text/javascript\">                require([\"plotly\"], function(Plotly) {                    window.PLOTLYENV=window.PLOTLYENV || {};                                    if (document.getElementById(\"4c6a0c5e-5109-4b78-a76d-e527778c9afc\")) {                    Plotly.newPlot(                        \"4c6a0c5e-5109-4b78-a76d-e527778c9afc\",                        [{\"hovertemplate\": \"prediction=0.0<br>value=%{r}<br>variable=%{theta}<extra></extra>\", \"legendgroup\": \"0.0\", \"line\": {\"color\": \"#636efa\", \"dash\": \"solid\"}, \"mode\": \"lines\", \"name\": \"0.0\", \"r\": [16.617486338797814, 2.5081967213114753, 2.2841530054644807, 1.5683060109289617, 2.0136612021857925, 0.17759562841530055, 4.038251366120218, 3.191256830601093, 3.112021857923497, 1.4262295081967213, 2.1557377049180326, 3.579234972677596, 0.6338797814207651, 11.800546448087431, 11.8551912568306, 12.098360655737705, 16.617486338797814], \"showlegend\": true, \"subplot\": \"polar\", \"theta\": [\"age\", \"Medu\", \"Fedu\", \"traveltime\", \"studytime\", \"failures\", \"famrel\", \"freetime\", \"goout\", \"Dalc\", \"Walc\", \"health\", \"absences\", \"G1\", \"G2\", \"G3\", \"age\"], \"type\": \"scatterpolar\"}, {\"hovertemplate\": \"prediction=1.0<br>value=%{r}<br>variable=%{theta}<extra></extra>\", \"legendgroup\": \"1.0\", \"line\": {\"color\": \"#EF553B\", \"dash\": \"solid\"}, \"mode\": \"lines\", \"name\": \"1.0\", \"r\": [16.695121951219512, 2.5853658536585367, 2.3597560975609757, 1.5731707317073171, 1.8475609756097562, 0.21341463414634146, 3.8597560975609757, 3.1707317073170733, 3.1341463414634148, 1.3902439024390243, 2.207317073170732, 3.481707317073171, 4.682926829268292, 11.103658536585366, 11.49390243902439, 11.975609756097562, 16.695121951219512], \"showlegend\": true, \"subplot\": \"polar\", \"theta\": [\"age\", \"Medu\", \"Fedu\", \"traveltime\", \"studytime\", \"failures\", \"famrel\", \"freetime\", \"goout\", \"Dalc\", \"Walc\", \"health\", \"absences\", \"G1\", \"G2\", \"G3\", \"age\"], \"type\": \"scatterpolar\"}, {\"hovertemplate\": \"prediction=2.0<br>value=%{r}<br>variable=%{theta}<extra></extra>\", \"legendgroup\": \"2.0\", \"line\": {\"color\": \"#00cc96\", \"dash\": \"solid\"}, \"mode\": \"lines\", \"name\": \"2.0\", \"r\": [17.363636363636363, 2.5454545454545454, 2.272727272727273, 1.3636363636363635, 1.4545454545454546, 0.45454545454545453, 4.0, 3.3636363636363638, 3.090909090909091, 2.0, 2.5454545454545454, 2.909090909090909, 22.90909090909091, 10.818181818181818, 10.909090909090908, 11.181818181818182, 17.363636363636363], \"showlegend\": true, \"subplot\": \"polar\", \"theta\": [\"age\", \"Medu\", \"Fedu\", \"traveltime\", \"studytime\", \"failures\", \"famrel\", \"freetime\", \"goout\", \"Dalc\", \"Walc\", \"health\", \"absences\", \"G1\", \"G2\", \"G3\", \"age\"], \"type\": \"scatterpolar\"}, {\"hovertemplate\": \"prediction=3.0<br>value=%{r}<br>variable=%{theta}<extra></extra>\", \"legendgroup\": \"3.0\", \"line\": {\"color\": \"#ab63fa\", \"dash\": \"solid\"}, \"mode\": \"lines\", \"name\": \"3.0\", \"r\": [17.185185185185187, 2.425925925925926, 2.3055555555555554, 1.5833333333333333, 1.8240740740740742, 0.3611111111111111, 3.6666666666666665, 3.138888888888889, 3.5185185185185186, 1.8796296296296295, 2.787037037037037, 3.537037037037037, 10.398148148148149, 10.546296296296296, 10.787037037037036, 11.222222222222221, 17.185185185185187], \"showlegend\": true, \"subplot\": \"polar\", \"theta\": [\"age\", \"Medu\", \"Fedu\", \"traveltime\", \"studytime\", \"failures\", \"famrel\", \"freetime\", \"goout\", \"Dalc\", \"Walc\", \"health\", \"absences\", \"G1\", \"G2\", \"G3\", \"age\"], \"type\": \"scatterpolar\"}],                        {\"height\": 600, \"legend\": {\"title\": {\"text\": \"prediction\"}, \"tracegroupgap\": 0}, \"margin\": {\"t\": 60}, \"polar\": {\"angularaxis\": {\"direction\": \"clockwise\", \"rotation\": 90}, \"domain\": {\"x\": [0.0, 1.0], \"y\": [0.0, 1.0]}}, \"template\": {\"data\": {\"bar\": [{\"error_x\": {\"color\": \"#2a3f5f\"}, \"error_y\": {\"color\": \"#2a3f5f\"}, \"marker\": {\"line\": {\"color\": \"#E5ECF6\", \"width\": 0.5}}, \"type\": \"bar\"}], \"barpolar\": [{\"marker\": {\"line\": {\"color\": \"#E5ECF6\", \"width\": 0.5}}, \"type\": \"barpolar\"}], \"carpet\": [{\"aaxis\": {\"endlinecolor\": \"#2a3f5f\", \"gridcolor\": \"white\", \"linecolor\": \"white\", \"minorgridcolor\": \"white\", \"startlinecolor\": \"#2a3f5f\"}, \"baxis\": {\"endlinecolor\": \"#2a3f5f\", \"gridcolor\": \"white\", \"linecolor\": \"white\", \"minorgridcolor\": \"white\", \"startlinecolor\": \"#2a3f5f\"}, \"type\": \"carpet\"}], \"choropleth\": [{\"colorbar\": {\"outlinewidth\": 0, \"ticks\": \"\"}, \"type\": \"choropleth\"}], \"contour\": [{\"colorbar\": {\"outlinewidth\": 0, \"ticks\": \"\"}, \"colorscale\": [[0.0, \"#0d0887\"], [0.1111111111111111, \"#46039f\"], [0.2222222222222222, \"#7201a8\"], [0.3333333333333333, \"#9c179e\"], [0.4444444444444444, \"#bd3786\"], [0.5555555555555556, \"#d8576b\"], [0.6666666666666666, \"#ed7953\"], [0.7777777777777778, \"#fb9f3a\"], [0.8888888888888888, \"#fdca26\"], [1.0, \"#f0f921\"]], \"type\": \"contour\"}], \"contourcarpet\": [{\"colorbar\": {\"outlinewidth\": 0, \"ticks\": \"\"}, \"type\": \"contourcarpet\"}], \"heatmap\": [{\"colorbar\": {\"outlinewidth\": 0, \"ticks\": \"\"}, \"colorscale\": [[0.0, \"#0d0887\"], [0.1111111111111111, \"#46039f\"], [0.2222222222222222, \"#7201a8\"], [0.3333333333333333, \"#9c179e\"], [0.4444444444444444, \"#bd3786\"], [0.5555555555555556, \"#d8576b\"], [0.6666666666666666, \"#ed7953\"], [0.7777777777777778, \"#fb9f3a\"], [0.8888888888888888, \"#fdca26\"], [1.0, \"#f0f921\"]], \"type\": \"heatmap\"}], \"heatmapgl\": [{\"colorbar\": {\"outlinewidth\": 0, \"ticks\": \"\"}, \"colorscale\": [[0.0, \"#0d0887\"], [0.1111111111111111, \"#46039f\"], [0.2222222222222222, \"#7201a8\"], [0.3333333333333333, \"#9c179e\"], [0.4444444444444444, \"#bd3786\"], [0.5555555555555556, \"#d8576b\"], [0.6666666666666666, \"#ed7953\"], [0.7777777777777778, \"#fb9f3a\"], [0.8888888888888888, \"#fdca26\"], [1.0, \"#f0f921\"]], \"type\": \"heatmapgl\"}], \"histogram\": [{\"marker\": {\"colorbar\": {\"outlinewidth\": 0, \"ticks\": \"\"}}, \"type\": \"histogram\"}], \"histogram2d\": [{\"colorbar\": {\"outlinewidth\": 0, \"ticks\": \"\"}, \"colorscale\": [[0.0, \"#0d0887\"], [0.1111111111111111, \"#46039f\"], [0.2222222222222222, \"#7201a8\"], [0.3333333333333333, \"#9c179e\"], [0.4444444444444444, \"#bd3786\"], [0.5555555555555556, \"#d8576b\"], [0.6666666666666666, \"#ed7953\"], [0.7777777777777778, \"#fb9f3a\"], [0.8888888888888888, \"#fdca26\"], [1.0, \"#f0f921\"]], \"type\": \"histogram2d\"}], \"histogram2dcontour\": [{\"colorbar\": {\"outlinewidth\": 0, \"ticks\": \"\"}, \"colorscale\": [[0.0, \"#0d0887\"], [0.1111111111111111, \"#46039f\"], [0.2222222222222222, \"#7201a8\"], [0.3333333333333333, \"#9c179e\"], [0.4444444444444444, \"#bd3786\"], [0.5555555555555556, \"#d8576b\"], [0.6666666666666666, \"#ed7953\"], [0.7777777777777778, \"#fb9f3a\"], [0.8888888888888888, \"#fdca26\"], [1.0, \"#f0f921\"]], \"type\": \"histogram2dcontour\"}], \"mesh3d\": [{\"colorbar\": {\"outlinewidth\": 0, \"ticks\": \"\"}, \"type\": \"mesh3d\"}], \"parcoords\": [{\"line\": {\"colorbar\": {\"outlinewidth\": 0, \"ticks\": \"\"}}, \"type\": \"parcoords\"}], \"pie\": [{\"automargin\": true, \"type\": \"pie\"}], \"scatter\": [{\"marker\": {\"colorbar\": {\"outlinewidth\": 0, \"ticks\": \"\"}}, \"type\": \"scatter\"}], \"scatter3d\": [{\"line\": {\"colorbar\": {\"outlinewidth\": 0, \"ticks\": \"\"}}, \"marker\": {\"colorbar\": {\"outlinewidth\": 0, \"ticks\": \"\"}}, \"type\": \"scatter3d\"}], \"scattercarpet\": [{\"marker\": {\"colorbar\": {\"outlinewidth\": 0, \"ticks\": \"\"}}, \"type\": \"scattercarpet\"}], \"scattergeo\": [{\"marker\": {\"colorbar\": {\"outlinewidth\": 0, \"ticks\": \"\"}}, \"type\": \"scattergeo\"}], \"scattergl\": [{\"marker\": {\"colorbar\": {\"outlinewidth\": 0, \"ticks\": \"\"}}, \"type\": \"scattergl\"}], \"scattermapbox\": [{\"marker\": {\"colorbar\": {\"outlinewidth\": 0, \"ticks\": \"\"}}, \"type\": \"scattermapbox\"}], \"scatterpolar\": [{\"marker\": {\"colorbar\": {\"outlinewidth\": 0, \"ticks\": \"\"}}, \"type\": \"scatterpolar\"}], \"scatterpolargl\": [{\"marker\": {\"colorbar\": {\"outlinewidth\": 0, \"ticks\": \"\"}}, \"type\": \"scatterpolargl\"}], \"scatterternary\": [{\"marker\": {\"colorbar\": {\"outlinewidth\": 0, \"ticks\": \"\"}}, \"type\": \"scatterternary\"}], \"surface\": [{\"colorbar\": {\"outlinewidth\": 0, \"ticks\": \"\"}, \"colorscale\": [[0.0, \"#0d0887\"], [0.1111111111111111, \"#46039f\"], [0.2222222222222222, \"#7201a8\"], [0.3333333333333333, \"#9c179e\"], [0.4444444444444444, \"#bd3786\"], [0.5555555555555556, \"#d8576b\"], [0.6666666666666666, \"#ed7953\"], [0.7777777777777778, \"#fb9f3a\"], [0.8888888888888888, \"#fdca26\"], [1.0, \"#f0f921\"]], \"type\": \"surface\"}], \"table\": [{\"cells\": {\"fill\": {\"color\": \"#EBF0F8\"}, \"line\": {\"color\": \"white\"}}, \"header\": {\"fill\": {\"color\": \"#C8D4E3\"}, \"line\": {\"color\": \"white\"}}, \"type\": \"table\"}]}, \"layout\": {\"annotationdefaults\": {\"arrowcolor\": \"#2a3f5f\", \"arrowhead\": 0, \"arrowwidth\": 1}, \"autotypenumbers\": \"strict\", \"coloraxis\": {\"colorbar\": {\"outlinewidth\": 0, \"ticks\": \"\"}}, \"colorscale\": {\"diverging\": [[0, \"#8e0152\"], [0.1, \"#c51b7d\"], [0.2, \"#de77ae\"], [0.3, \"#f1b6da\"], [0.4, \"#fde0ef\"], [0.5, \"#f7f7f7\"], [0.6, \"#e6f5d0\"], [0.7, \"#b8e186\"], [0.8, \"#7fbc41\"], [0.9, \"#4d9221\"], [1, \"#276419\"]], \"sequential\": [[0.0, \"#0d0887\"], [0.1111111111111111, \"#46039f\"], [0.2222222222222222, \"#7201a8\"], [0.3333333333333333, \"#9c179e\"], [0.4444444444444444, \"#bd3786\"], [0.5555555555555556, \"#d8576b\"], [0.6666666666666666, \"#ed7953\"], [0.7777777777777778, \"#fb9f3a\"], [0.8888888888888888, \"#fdca26\"], [1.0, \"#f0f921\"]], \"sequentialminus\": [[0.0, \"#0d0887\"], [0.1111111111111111, \"#46039f\"], [0.2222222222222222, \"#7201a8\"], [0.3333333333333333, \"#9c179e\"], [0.4444444444444444, \"#bd3786\"], [0.5555555555555556, \"#d8576b\"], [0.6666666666666666, \"#ed7953\"], [0.7777777777777778, \"#fb9f3a\"], [0.8888888888888888, \"#fdca26\"], [1.0, \"#f0f921\"]]}, \"colorway\": [\"#636efa\", \"#EF553B\", \"#00cc96\", \"#ab63fa\", \"#FFA15A\", \"#19d3f3\", \"#FF6692\", \"#B6E880\", \"#FF97FF\", \"#FECB52\"], \"font\": {\"color\": \"#2a3f5f\"}, \"geo\": {\"bgcolor\": \"white\", \"lakecolor\": \"white\", \"landcolor\": \"#E5ECF6\", \"showlakes\": true, \"showland\": true, \"subunitcolor\": \"white\"}, \"hoverlabel\": {\"align\": \"left\"}, \"hovermode\": \"closest\", \"mapbox\": {\"style\": \"light\"}, \"paper_bgcolor\": \"white\", \"plot_bgcolor\": \"#E5ECF6\", \"polar\": {\"angularaxis\": {\"gridcolor\": \"white\", \"linecolor\": \"white\", \"ticks\": \"\"}, \"bgcolor\": \"#E5ECF6\", \"radialaxis\": {\"gridcolor\": \"white\", \"linecolor\": \"white\", \"ticks\": \"\"}}, \"scene\": {\"xaxis\": {\"backgroundcolor\": \"#E5ECF6\", \"gridcolor\": \"white\", \"gridwidth\": 2, \"linecolor\": \"white\", \"showbackground\": true, \"ticks\": \"\", \"zerolinecolor\": \"white\"}, \"yaxis\": {\"backgroundcolor\": \"#E5ECF6\", \"gridcolor\": \"white\", \"gridwidth\": 2, \"linecolor\": \"white\", \"showbackground\": true, \"ticks\": \"\", \"zerolinecolor\": \"white\"}, \"zaxis\": {\"backgroundcolor\": \"#E5ECF6\", \"gridcolor\": \"white\", \"gridwidth\": 2, \"linecolor\": \"white\", \"showbackground\": true, \"ticks\": \"\", \"zerolinecolor\": \"white\"}}, \"shapedefaults\": {\"line\": {\"color\": \"#2a3f5f\"}}, \"ternary\": {\"aaxis\": {\"gridcolor\": \"white\", \"linecolor\": \"white\", \"ticks\": \"\"}, \"baxis\": {\"gridcolor\": \"white\", \"linecolor\": \"white\", \"ticks\": \"\"}, \"bgcolor\": \"#E5ECF6\", \"caxis\": {\"gridcolor\": \"white\", \"linecolor\": \"white\", \"ticks\": \"\"}}, \"title\": {\"x\": 0.05}, \"xaxis\": {\"automargin\": true, \"gridcolor\": \"white\", \"linecolor\": \"white\", \"ticks\": \"\", \"title\": {\"standoff\": 15}, \"zerolinecolor\": \"white\", \"zerolinewidth\": 2}, \"yaxis\": {\"automargin\": true, \"gridcolor\": \"white\", \"linecolor\": \"white\", \"ticks\": \"\", \"title\": {\"standoff\": 15}, \"zerolinecolor\": \"white\", \"zerolinewidth\": 2}}}, \"width\": 1000},                        {\"responsive\": true}                    ).then(function(){\n",
       "                            \n",
       "var gd = document.getElementById('4c6a0c5e-5109-4b78-a76d-e527778c9afc');\n",
       "var x = new MutationObserver(function (mutations, observer) {{\n",
       "        var display = window.getComputedStyle(gd).display;\n",
       "        if (!display || display === 'none') {{\n",
       "            console.log([gd, 'removed!']);\n",
       "            Plotly.purge(gd);\n",
       "            observer.disconnect();\n",
       "        }}\n",
       "}});\n",
       "\n",
       "// Listen for the removal of the full notebook cells\n",
       "var notebookContainer = gd.closest('#notebook-container');\n",
       "if (notebookContainer) {{\n",
       "    x.observe(notebookContainer, {childList: true});\n",
       "}}\n",
       "\n",
       "// Listen for the clearing of the current output cell\n",
       "var outputEl = gd.closest('.output');\n",
       "if (outputEl) {{\n",
       "    x.observe(outputEl, {childList: true});\n",
       "}}\n",
       "\n",
       "                        })                };                });            </script>        </div>"
      ]
     },
     "metadata": {},
     "output_type": "display_data"
    }
   ],
   "source": [
    "polar=dfpd.groupby(\"prediction\").mean().reset_index()\n",
    "polar=pd.melt(polar,id_vars=[\"prediction\"])\n",
    "fig4 = px.line_polar(polar, r=\"value\", theta=\"variable\", color=\"prediction\", line_close=True,height=600,width=1000)\n",
    "fig4.show()"
   ]
  },
  {
   "cell_type": "code",
   "execution_count": 68,
   "metadata": {},
   "outputs": [],
   "source": [
    "# Logistic Regression\n",
    "from pyspark.ml.classification import LogisticRegression\n",
    "from pyspark.ml import Pipeline"
   ]
  },
  {
   "cell_type": "code",
   "execution_count": null,
   "metadata": {},
   "outputs": [],
   "source": []
  },
  {
   "cell_type": "code",
   "execution_count": 69,
   "metadata": {},
   "outputs": [],
   "source": [
    "log_reg = LogisticRegression(featuresCol='features',labelCol='label')"
   ]
  },
  {
   "cell_type": "code",
   "execution_count": 70,
   "metadata": {},
   "outputs": [],
   "source": [
    "stringindexer_stages = [StringIndexer(inputCol=c, outputCol='strindexed_' + c) for c in categorical_columns]\n",
    "    # encode label column and add it to stringindexer_stages\n",
    "stringindexer_stages += [StringIndexer(inputCol='G3', outputCol='label')]\n",
    "    \n",
    "onehotencoder_stages = [OneHotEncoder(inputCol='strindexed_' + c, outputCol='onehot_' + c) for c in categorical_columns]\n",
    "    \n",
    "feature_columns = ['onehot_' + c for c in categorical_columns]\n",
    "feature_columns += numerical_columns\n",
    "vectorassembler_stage = VectorAssembler(inputCols=feature_columns, outputCol='features')\n",
    "    \n",
    "\n",
    "pipeline = Pipeline(stages=stringindexer_stages + onehotencoder_stages + [vectorassembler_stage]+[log_reg])\n",
    "pipeline_model = pipeline.fit(train)"
   ]
  },
  {
   "cell_type": "code",
   "execution_count": 71,
   "metadata": {},
   "outputs": [],
   "source": [
    "results = pipeline_model.transform(train)"
   ]
  },
  {
   "cell_type": "code",
   "execution_count": 72,
   "metadata": {},
   "outputs": [],
   "source": [
    "# Evaluate the model using the binary classifer.\n",
    "from pyspark.ml.evaluation import BinaryClassificationEvaluator\n",
    "\n",
    "my_eval = BinaryClassificationEvaluator(rawPredictionCol='prediction',\n",
    "                                       labelCol='label')"
   ]
  },
  {
   "cell_type": "code",
   "execution_count": 110,
   "metadata": {},
   "outputs": [],
   "source": [
    "from pyspark.sql.functions import sum as fsum"
   ]
  },
  {
   "cell_type": "code",
   "execution_count": 136,
   "metadata": {},
   "outputs": [],
   "source": []
  },
  {
   "cell_type": "code",
   "execution_count": 73,
   "metadata": {},
   "outputs": [
    {
     "name": "stdout",
     "output_type": "stream",
     "text": [
      "+-----+----------+\n",
      "|label|prediction|\n",
      "+-----+----------+\n",
      "|  2.0|       2.0|\n",
      "|  6.0|       1.0|\n",
      "|  0.0|       3.0|\n",
      "|  3.0|       1.0|\n",
      "|  2.0|       2.0|\n",
      "|  3.0|       2.0|\n",
      "|  3.0|       2.0|\n",
      "|  0.0|       2.0|\n",
      "|  5.0|       4.0|\n",
      "|  6.0|       3.0|\n",
      "|  5.0|       9.0|\n",
      "|  2.0|       0.0|\n",
      "|  3.0|       4.0|\n",
      "|  3.0|       2.0|\n",
      "|  2.0|       4.0|\n",
      "|  0.0|       3.0|\n",
      "|  2.0|      11.0|\n",
      "|  0.0|       0.0|\n",
      "|  0.0|       1.0|\n",
      "|  1.0|       0.0|\n",
      "+-----+----------+\n",
      "only showing top 20 rows\n",
      "\n"
     ]
    }
   ],
   "source": [
    "results.select('label','prediction').show()"
   ]
  },
  {
   "cell_type": "code",
   "execution_count": 74,
   "metadata": {},
   "outputs": [
    {
     "data": {
      "text/plain": [
       "0.69375"
      ]
     },
     "execution_count": 74,
     "metadata": {},
     "output_type": "execute_result"
    }
   ],
   "source": [
    "AUC = my_eval.evaluate(results)\n",
    "AUC"
   ]
  },
  {
   "cell_type": "code",
   "execution_count": 75,
   "metadata": {},
   "outputs": [],
   "source": [
    "stringindexer_stages = [StringIndexer(inputCol=c, outputCol='strindexed_' + c) for c in categorical_columns]\n",
    "    # encode label column and add it to stringindexer_stages\n",
    "stringindexer_stages += [StringIndexer(inputCol='G3', outputCol='label')]\n",
    "    \n",
    "#onehotencoder_stages = [OneHotEncoder(inputCol='strindexed_' + c, outputCol='onehot_' + c) for c in categorical_columns]\n",
    "    \n",
    "#feature_columns = ['onehot_' + c for c in categorical_columns]\n",
    "feature_columns = numerical_columns\n",
    "vectorassembler_stage = VectorAssembler(inputCols=feature_columns, outputCol='features')\n",
    "\n",
    "pipeline2 = Pipeline(stages=stringindexer_stages +  [vectorassembler_stage]+[log_reg])\n",
    "pipeline_model2 = pipeline2.fit(train)"
   ]
  },
  {
   "cell_type": "code",
   "execution_count": 76,
   "metadata": {},
   "outputs": [],
   "source": [
    "results2 = pipeline_model2.transform(train)"
   ]
  },
  {
   "cell_type": "code",
   "execution_count": 77,
   "metadata": {},
   "outputs": [
    {
     "data": {
      "text/plain": [
       "0.6085633116883117"
      ]
     },
     "execution_count": 77,
     "metadata": {},
     "output_type": "execute_result"
    }
   ],
   "source": [
    "AUC = my_eval.evaluate(results2)\n",
    "AUC"
   ]
  },
  {
   "cell_type": "code",
   "execution_count": 131,
   "metadata": {},
   "outputs": [
    {
     "name": "stdout",
     "output_type": "stream",
     "text": [
      "-0.3086234118728022\n"
     ]
    }
   ],
   "source": [
    "R2(results2)"
   ]
  },
  {
   "cell_type": "code",
   "execution_count": 50,
   "metadata": {},
   "outputs": [],
   "source": [
    "resu=results.toPandas()"
   ]
  },
  {
   "cell_type": "code",
   "execution_count": 51,
   "metadata": {},
   "outputs": [
    {
     "data": {
      "text/plain": [
       "Text(0.5,1,'label vs prediction with one-hot')"
      ]
     },
     "execution_count": 51,
     "metadata": {},
     "output_type": "execute_result"
    },
    {
     "data": {
      "image/png": "[encoded data removed]",
      "text/plain": [
       "<Figure size 432x288 with 1 Axes>"
      ]
     },
     "metadata": {},
     "output_type": "display_data"
    }
   ],
   "source": [
    "plt.scatter(resu['label'], resu['prediction'],cmap='viridis',alpha=0.3);\n",
    "m, b = np.polyfit(resu['label'], resu['prediction'], 1)\n",
    "plt.plot(resu['label'], m*resu['label'] + b)\n",
    "plt.xlabel('label') \n",
    "plt.ylabel('prediction') \n",
    "plt.title(\"label vs prediction with one-hot\")"
   ]
  },
  {
   "cell_type": "code",
   "execution_count": 52,
   "metadata": {},
   "outputs": [
    {
     "data": {
      "text/plain": [
       "Text(0.5,1,'label vs prediction without one-hot')"
      ]
     },
     "execution_count": 52,
     "metadata": {},
     "output_type": "execute_result"
    },
    {
     "data": {
      "image/png": "[encoded data removed]",
      "text/plain": [
       "<Figure size 432x288 with 1 Axes>"
      ]
     },
     "metadata": {},
     "output_type": "display_data"
    }
   ],
   "source": [
    "resu=results2.toPandas()\n",
    "plt.scatter(resu['label'], resu['prediction'],cmap='viridis',alpha=0.3);\n",
    "m, b = np.polyfit(resu['label'], resu['prediction'], 1)\n",
    "plt.plot(resu['label'], m*resu['label'] + b)\n",
    "plt.xlabel('label') \n",
    "plt.ylabel('prediction') \n",
    "plt.title(\"label vs prediction without one-hot\")"
   ]
  }
 ],
 "metadata": {
  "kernelspec": {
   "display_name": "Python 3",
   "language": "python",
   "name": "python3"
  },
  "language_info": {
   "codemirror_mode": {
    "name": "ipython",
    "version": 3
   },
   "file_extension": ".py",
   "mimetype": "text/x-python",
   "name": "python",
   "nbconvert_exporter": "python",
   "pygments_lexer": "ipython3",
   "version": "3.5.2"
  }
 },
 "nbformat": 4,
 "nbformat_minor": 2
}
